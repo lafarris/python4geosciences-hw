{
 "cells": [
  {
   "cell_type": "code",
   "execution_count": 2,
   "metadata": {
    "collapsed": false
   },
   "outputs": [
    {
     "data": {
      "text/plain": [
       "{'Department': 'Meteorology/Oceanography',\n",
       " 'Explanation': 'I want to learn Python so that I can use it in the future in research or in my career',\n",
       " 'Hometown': 'Katy',\n",
       " 'Name': 'Laura Farris',\n",
       " 'Student Status': 'Graduate/MOST',\n",
       " 'Years at A&M': 4}"
      ]
     },
     "execution_count": 2,
     "metadata": {},
     "output_type": "execute_result"
    }
   ],
   "source": [
    "# 1. Make a dictionary \n",
    "# key:value\n",
    "\n",
    "d = {'Name':'Laura Farris', 'Hometown':'Katy', \n",
    "     'Department':'Meteorology/Oceanography', \n",
    "     'Student Status':'Graduate/MOST', 'Years at A&M':4, \n",
    "     'Explanation':'I want to learn Python so that I can use it in the future in research or in my career'}\n",
    "\n",
    "d"
   ]
  },
  {
   "cell_type": "code",
   "execution_count": 4,
   "metadata": {
    "collapsed": false
   },
   "outputs": [
    {
     "data": {
      "text/plain": [
       "dict"
      ]
     },
     "execution_count": 4,
     "metadata": {},
     "output_type": "execute_result"
    }
   ],
   "source": [
    "# notes for Monday...\n",
    "d.keys()\n",
    "\n",
    "# know what you're dealing with... lists, dictionaries, arrays...\n",
    "type(d)"
   ]
  },
  {
   "cell_type": "code",
   "execution_count": 5,
   "metadata": {
    "collapsed": false
   },
   "outputs": [
    {
     "data": {
      "text/plain": [
       "(True, False)"
      ]
     },
     "execution_count": 5,
     "metadata": {},
     "output_type": "execute_result"
    }
   ],
   "source": [
    "# 2 Test for vowels\n",
    "\n",
    "def isVowel(v):\n",
    "    'defining vowels'\n",
    "    return v in 'a, A, e, E, i, I, o, O, u, U'\n",
    "\n",
    "isVowel('e'), isVowel('t')\n",
    "\n",
    "# def isVowel(v):\n",
    "#     'defining vowels'\n",
    "#     # if len(s) > 1:\n",
    "#         return false\n",
    "# or\n",
    "#     # assert (len(s) == 1), 'your string is too long'\n",
    "#     if s.lower() in ['a', 'e', 'i', 'o', 'u']\n",
    "#         return True\n",
    "#     else:\n",
    "#         return False\n",
    "# if isVowel('a'):\n",
    "#     print('Yes, \"a\" is a vowel.')"
   ]
  },
  {
   "cell_type": "code",
   "execution_count": 4,
   "metadata": {
    "collapsed": false
   },
   "outputs": [
    {
     "name": "stdout",
     "output_type": "stream",
     "text": [
      "2\n",
      "7\n"
     ]
    }
   ],
   "source": [
    "# 3 Compute the length of a given list or string\n",
    "\n",
    "def length(s):\n",
    "    num = 0\n",
    "    for word in s:\n",
    "        num = num + 1 \n",
    "    print (num)\n",
    "    \n",
    "length(['string1', 'string2'])\n",
    "length('string1')"
   ]
  },
  {
   "cell_type": "code",
   "execution_count": 5,
   "metadata": {
    "collapsed": false
   },
   "outputs": [
    {
     "data": {
      "text/plain": [
       "'erohs aes eht yb sllehs aes slles yllaS'"
      ]
     },
     "execution_count": 5,
     "metadata": {},
     "output_type": "execute_result"
    }
   ],
   "source": [
    "# 4 Reverse a string\n",
    "\n",
    "def reverse(b):\n",
    "    return b [::-1]\n",
    "\n",
    "reverse('Sally sells sea shells by the sea shore')"
   ]
  },
  {
   "cell_type": "code",
   "execution_count": null,
   "metadata": {
    "collapsed": true
   },
   "outputs": [],
   "source": [
    "#4 notes\n",
    "\n",
    "# def reverse(x):\n",
    "#     sout = ''\n",
    "#     for si in x[::-1]:\n",
    "#         sout += si\n",
    "#     return sout\n",
    "# reverse('This is a string')"
   ]
  },
  {
   "cell_type": "code",
   "execution_count": 6,
   "metadata": {
    "collapsed": false
   },
   "outputs": [
    {
     "data": {
      "text/plain": [
       "True"
      ]
     },
     "execution_count": 6,
     "metadata": {},
     "output_type": "execute_result"
    }
   ],
   "source": [
    "# 5 Check for palindromes\n",
    "\n",
    "def is_palindrome(p):\n",
    "    p = p.lower()\n",
    "    p = p.strip()\n",
    "    if p[::-1] == p:\n",
    "        return True\n",
    "    else:\n",
    "        return False\n",
    "\n",
    "is_palindrome('Mom mom')"
   ]
  },
  {
   "cell_type": "code",
   "execution_count": 9,
   "metadata": {
    "collapsed": false
   },
   "outputs": [
    {
     "name": "stdout",
     "output_type": "stream",
     "text": [
      "Neveroddoreven\n"
     ]
    },
    {
     "data": {
      "text/plain": [
       "'Neveroddoreven'"
      ]
     },
     "execution_count": 9,
     "metadata": {},
     "output_type": "execute_result"
    }
   ],
   "source": [
    "#5 notes\n",
    "\n",
    "s = 'Never odd or even'\n",
    "print(s.replace(' ', '')) # takes care of spaces\n",
    "\n",
    "''.join(s.split()) # whatever is in the '' is what is joining/in between the words"
   ]
  },
  {
   "cell_type": "code",
   "execution_count": 10,
   "metadata": {
    "collapsed": false
   },
   "outputs": [
    {
     "name": "stdout",
     "output_type": "stream",
     "text": [
      "1 This is a test file.\n",
      "\n",
      "2 I've never made one before.\n",
      "\n",
      "\n",
      "4 Here goes nothin'.\n"
     ]
    }
   ],
   "source": [
    "# 6 Number lines in a text file \n",
    "textfile = open('testfile.txt')\n",
    "lines = textfile.readlines()\n",
    "\n",
    "for idx, line in enumerate(lines):\n",
    "    if not (line.split()):\n",
    "        print('')\n",
    "        continue \n",
    "    else:\n",
    "        print((idx + 1), line)\n",
    "\n",
    "\n",
    "fh = open(\"testfile2.txt\", \"w\")\n",
    "fh.writelines(lines)\n",
    "fh.close()"
   ]
  },
  {
   "cell_type": "code",
   "execution_count": 19,
   "metadata": {
    "collapsed": false
   },
   "outputs": [
    {
     "name": "stdout",
     "output_type": "stream",
     "text": [
      "1 .  This is a test file.\n",
      "2 .  I've never made one before.\n",
      "\n",
      "3 .  Here goes nothin'."
     ]
    }
   ],
   "source": [
    "# 6 notes \n",
    "\n",
    "textfile = open('testfile.txt')\n",
    "\n",
    "counter=1\n",
    "for line in textfile.readlines():\n",
    "    if line.split():\n",
    "        # this is something there in that line...\n",
    "        print(counter, '. ', line, end='') # for print to not add a new line at the end of the string... no double spacing...\n",
    "        counter += 1\n",
    "    else:\n",
    "        # there is nothing in the line\n",
    "        print('')\n",
    "        \n",
    "        \n",
    "textfile.close()"
   ]
  },
  {
   "cell_type": "code",
   "execution_count": 8,
   "metadata": {
    "collapsed": false
   },
   "outputs": [
    {
     "name": "stdout",
     "output_type": "stream",
     "text": [
      "[4, 2, 5]\n"
     ]
    }
   ],
   "source": [
    "# 7 Convert list of words into list of integers of length of words\n",
    "\n",
    "# using a for loop\n",
    "\n",
    "def method1(x):\n",
    "    emptylist = []\n",
    "    def length(y):\n",
    "        length = 0\n",
    "        for term in y:\n",
    "            length = length + 1\n",
    "        return length\n",
    "    for aa in x:\n",
    "        bb = length(aa)\n",
    "        emptylist.append(bb)\n",
    "    return emptylist\n",
    "\n",
    "print(method1(['list', 'of', 'words']))\n",
    "\n",
    "# could of used length of stuff in #3"
   ]
  },
  {
   "cell_type": "code",
   "execution_count": 9,
   "metadata": {
    "collapsed": false
   },
   "outputs": [
    {
     "name": "stdout",
     "output_type": "stream",
     "text": [
      "[4, 2, 5]\n"
     ]
    }
   ],
   "source": [
    "# using the higher order function map()\n",
    "\n",
    "def method2(x):\n",
    "    def length(y):\n",
    "        length = 0\n",
    "        for term in y:\n",
    "            length = length + 1\n",
    "        return length\n",
    "    return list(map(length, x))\n",
    "\n",
    "print(method2(['list','of','words']))\n"
   ]
  },
  {
   "cell_type": "code",
   "execution_count": 10,
   "metadata": {
    "collapsed": false
   },
   "outputs": [
    {
     "name": "stdout",
     "output_type": "stream",
     "text": [
      "[4, 2, 5]\n"
     ]
    }
   ],
   "source": [
    "# using list comprehensions\n",
    "\n",
    "def method3(x):\n",
    "    def length(y):\n",
    "        length = 0\n",
    "        for term in y:\n",
    "            length = length + 1\n",
    "        return length\n",
    "    return [length(n) for n in x]\n",
    "\n",
    "print(method3(['list','of','words']))"
   ]
  },
  {
   "cell_type": "code",
   "execution_count": 20,
   "metadata": {
    "collapsed": false
   },
   "outputs": [
    {
     "ename": "SyntaxError",
     "evalue": "invalid syntax (<ipython-input-20-4d6bb93d88c4>, line 8)",
     "output_type": "error",
     "traceback": [
      "\u001b[1;36m  File \u001b[1;32m\"<ipython-input-20-4d6bb93d88c4>\"\u001b[1;36m, line \u001b[1;32m8\u001b[0m\n\u001b[1;33m    'q':'d', 'r':'e', 's':'f', 't':'g, 'u':'h', 'v':'i', 'w':'j', 'x':'k',\u001b[0m\n\u001b[1;37m                                            ^\u001b[0m\n\u001b[1;31mSyntaxError\u001b[0m\u001b[1;31m:\u001b[0m invalid syntax\n"
     ]
    }
   ],
   "source": [
    "# 8 Encode and decode using ROT-13\n",
    "\n",
    "\n",
    "def decode():\n",
    "    phrase = input(\"Enter text to be encoded/decoded: \")\n",
    "    key = {'a':'n', 'b':'o', 'c':'p', 'd':'q', 'e':'r', 'f':'s', 'g':'t', 'h':'u', \n",
    "       'i':'v', 'j':'w', 'k':'x', 'l':'y', 'm':'z', 'n':'a', 'o':'b', 'p':'c', \n",
    "       'q':'d', 'r':'e', 's':'f', 't':'g, 'u':'h', 'v':'i', 'w':'j', 'x':'k',\n",
    "       'y':'l', 'z':'m', 'A':'N', 'B':'O', 'C':'P', 'D':'Q', 'E':'R', 'F':'S', \n",
    "       'G':'T', 'H':'U', 'I':'V', 'J':'W', 'K':'X', 'L':'Y', 'M':'Z', 'N':'A', \n",
    "       'O':'B', 'P':'C', 'Q':'D', 'R':'E', 'S':'F', 'T':'G', 'U':'H', 'V':'I', \n",
    "       'W':'J', 'X':'K', 'Y':'L', 'Z':'M', '?':'?', '!':'!', ' ':' '}\n",
    "    letters = []\n",
    "    new = []\n",
    "    for part in phrase:\n",
    "        letter = list(part)\n",
    "        for k in letter:\n",
    "            letters.append(k)\n",
    "    for l in letters:\n",
    "        newlet = key[l]\n",
    "        new.append(newlet)\n",
    "    newphrase = ''.join(new)\n",
    "    return newphrase\n",
    "\n",
    "decode()"
   ]
  },
  {
   "cell_type": "code",
   "execution_count": 15,
   "metadata": {
    "collapsed": false
   },
   "outputs": [
    {
     "name": "stdout",
     "output_type": "stream",
     "text": [
      "3 bottles of beer on the wall, 3 bottles of beer.\n",
      "Take one down, pass it around, 2 bottles of beer on the wall.\n",
      "\n",
      "2 bottles of beer on the wall, 2 bottles of beer.\n",
      "Take one down, pass it around, 1 bottles of beer on the wall.\n",
      "\n",
      "1 bottle of beer on the wall, 1 bottle of beer.\n",
      "Take one down, pass it around, 0 bottles of beer on the wall.\n",
      "\n"
     ]
    }
   ],
   "source": [
    "# 9 Fix the code\n",
    "\n",
    "\n",
    "def words(num):\n",
    "    \"\"\"Returns words with proper number of beer bottles filled in.\"\"\"\n",
    "    \n",
    "    if num != 1:\n",
    "        return str(num) + ' bottles of beer on the wall, ' + str(num) + ' bottles of beer.\\n' + \\\n",
    "            'Take one down, pass it around, ' + str(num-1) + ' bottles of beer on the wall.\\n'\n",
    "\n",
    "    elif num == 1:\n",
    "        return str(num) + ' bottle of beer on the wall, ' + str(num) + ' bottle of beer.\\n' + \\\n",
    "            'Take one down, pass it around, ' + str(num-1) + ' bottles of beer on the wall.\\n'\n",
    "\n",
    "\n",
    "numbottles = 4\n",
    "        \n",
    "for i in range(1, numbottles, 1)[::-1]:\n",
    "    print(words(i))"
   ]
  },
  {
   "cell_type": "code",
   "execution_count": 20,
   "metadata": {
    "collapsed": false
   },
   "outputs": [
    {
     "ename": "NameError",
     "evalue": "name 'data' is not defined",
     "output_type": "error",
     "traceback": [
      "\u001b[1;31m---------------------------------------------------------------------------\u001b[0m",
      "\u001b[1;31mNameError\u001b[0m                                 Traceback (most recent call last)",
      "\u001b[1;32m<ipython-input-20-132e20e86129>\u001b[0m in \u001b[0;36m<module>\u001b[1;34m()\u001b[0m\n\u001b[0;32m     36\u001b[0m     \u001b[1;32mif\u001b[0m \u001b[0mdata\u001b[0m\u001b[1;33m[\u001b[0m\u001b[1;36m0\u001b[0m\u001b[1;33m]\u001b[0m \u001b[1;33m==\u001b[0m \u001b[1;34m'Trackpoint'\u001b[0m\u001b[1;33m:\u001b[0m\u001b[1;33m\u001b[0m\u001b[0m\n\u001b[0;32m     37\u001b[0m         \u001b[0mprint\u001b[0m\u001b[1;33m(\u001b[0m\u001b[0mdata\u001b[0m\u001b[1;33m[\u001b[0m\u001b[1;36m1\u001b[0m\u001b[1;33m]\u001b[0m \u001b[1;33m+\u001b[0m \u001b[1;34m' '\u001b[0m \u001b[1;33m+\u001b[0m \u001b[0mdata\u001b[0m\u001b[1;33m[\u001b[0m\u001b[1;36m2\u001b[0m\u001b[1;33m]\u001b[0m \u001b[1;33m+\u001b[0m \u001b[1;34m'   '\u001b[0m \u001b[1;33m+\u001b[0m \u001b[0mdata\u001b[0m\u001b[1;33m[\u001b[0m\u001b[1;36m3\u001b[0m\u001b[1;33m]\u001b[0m \u001b[1;33m+\u001b[0m \u001b[1;34m' '\u001b[0m \u001b[1;33m+\u001b[0m \u001b[0mdata\u001b[0m\u001b[1;33m[\u001b[0m\u001b[1;36m4\u001b[0m\u001b[1;33m]\u001b[0m\u001b[1;33m)\u001b[0m\u001b[1;33m\u001b[0m\u001b[0m\n\u001b[1;32m---> 38\u001b[1;33m \u001b[0mlatlonspeed\u001b[0m \u001b[1;33m=\u001b[0m \u001b[1;33m{\u001b[0m\u001b[1;34m'lat'\u001b[0m\u001b[1;33m:\u001b[0m\u001b[0mdata\u001b[0m\u001b[1;33m[\u001b[0m\u001b[1;36m2\u001b[0m\u001b[1;33m]\u001b[0m\u001b[1;33m,\u001b[0m \u001b[1;34m'lon'\u001b[0m\u001b[1;33m:\u001b[0m\u001b[0mdata\u001b[0m\u001b[1;33m[\u001b[0m\u001b[1;36m4\u001b[0m\u001b[1;33m]\u001b[0m\u001b[1;33m,\u001b[0m \u001b[1;34m'speed'\u001b[0m\u001b[1;33m:\u001b[0m\u001b[0mdata\u001b[0m\u001b[1;33m[\u001b[0m\u001b[1;36m12\u001b[0m\u001b[1;33m]\u001b[0m\u001b[1;33m}\u001b[0m\u001b[1;33m\u001b[0m\u001b[0m\n\u001b[0m\u001b[0;32m     39\u001b[0m \u001b[1;31m# names = {}\u001b[0m\u001b[1;33m\u001b[0m\u001b[1;33m\u001b[0m\u001b[0m\n",
      "\u001b[1;31mNameError\u001b[0m: name 'data' is not defined"
     ]
    }
   ],
   "source": [
    "# 10  Reading in and parsing a file\n",
    "\n",
    "# Read in data/GPS.dat, a file containing GPS track information. This file is tab-delimited, but contains other \n",
    "# characters as well. It has data from several drifters, whose names are listed in the file after the TRACK label; \n",
    "# the first is named \"ACTIVE LOG\".\n",
    "# Read in the date and time information from the file for the drifter ACTIVE LOG, and form a list of datetime objects \n",
    "# with this information, where each line in the file is a data point that should have its own datetime object.\n",
    "\n",
    "# Grad students: Separately, read in the locations and speed at all data points for each drifter. Create a dictionary with \n",
    "# the name of each track as a key. The value of the dictionary will be another dictionary that has keys latitude, longitude, \n",
    "# and speed. That is, gps['GANDALF']['speed'] will return a list containing a timeseries of the speed of that track.\n",
    "\n",
    "class DateandTime(object):\n",
    "    def __init__(self, date=None, time=None):\n",
    "        self.date = date\n",
    "        self.time = time\n",
    "        \n",
    "datetime = []\n",
    "\n",
    "gps = open('GPS.dat')\n",
    "\n",
    "gpslines = gps.readlines()\n",
    "for line in gpslines:\n",
    "    lin = line.split()\n",
    "    if not lin: continue\n",
    "    if lin[0] == 'Trackpoint':\n",
    "        date = lin[5]\n",
    "        time = lin[6]\n",
    "        datetime.append(DateandTime(date, time))\n",
    "\n",
    "\n",
    "        \n",
    "for line in gps.readlines():        \n",
    "    data = line.split()           \n",
    "    if not data: continue         \n",
    "    if data[0] == 'Trackpoint': \n",
    "        print(data[1] + ' ' + data[2] + '   ' + data[3] + ' ' + data[4]) \n",
    "latlonspeed = {'lat':data[2], 'lon':data[4], 'speed':data[12]}\n",
    "# names = {}"
   ]
  },
  {
   "cell_type": "code",
   "execution_count": 22,
   "metadata": {
    "collapsed": false
   },
   "outputs": [
    {
     "data": {
      "text/plain": [
       "datetime.datetime(2006, 5, 20, 22, 30)"
      ]
     },
     "execution_count": 22,
     "metadata": {},
     "output_type": "execute_result"
    }
   ],
   "source": [
    "s = 'Trackpoint\tN42 49.825 W70 45.393\t5/20/2006 1:35:55 PM \t18 ft\t\t35 ft\t00:00:15\t1.6 mph\t77° true'\n",
    "\n",
    "# date time\n",
    "from dateutil import parser\n",
    "\n",
    "parser.parse('5/20/2006 10:30 PM')"
   ]
  },
  {
   "cell_type": "code",
   "execution_count": 32,
   "metadata": {
    "collapsed": false
   },
   "outputs": [],
   "source": [
    "# 11 (Grad) Constructing terms in a Taylor series to approximate a function\n",
    "\n",
    "def factorial(n):\n",
    "     if n == 0:\n",
    "        return 1\n",
    "     else:\n",
    "        return n * factorial(n-1)\n",
    "    \n",
    "\n",
    "def sin(x, n):\n",
    "sine = 0\n",
    "for k in range(n):\n",
    "    sign = (-1)**k\n",
    "    sine = sine + ((x**(1.0 + 2.0*k))/factorial(1.0 + 2*k))*sign\n",
    "return sine\n"
   ]
  },
  {
   "cell_type": "code",
   "execution_count": null,
   "metadata": {
    "collapsed": true
   },
   "outputs": [],
   "source": [
    "# from n = 0 to n = 5...\n",
    "\n",
    "sin(x, 6)"
   ]
  },
  {
   "cell_type": "code",
   "execution_count": null,
   "metadata": {
    "collapsed": true
   },
   "outputs": [],
   "source": []
  }
 ],
 "metadata": {
  "kernelspec": {
   "display_name": "Python 3",
   "language": "python",
   "name": "python3"
  },
  "language_info": {
   "codemirror_mode": {
    "name": "ipython",
    "version": 3
   },
   "file_extension": ".py",
   "mimetype": "text/x-python",
   "name": "python",
   "nbconvert_exporter": "python",
   "pygments_lexer": "ipython3",
   "version": "3.5.1"
  }
 },
 "nbformat": 4,
 "nbformat_minor": 0
}
