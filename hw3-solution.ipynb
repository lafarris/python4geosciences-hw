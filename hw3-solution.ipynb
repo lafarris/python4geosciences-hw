{
 "cells": [
  {
   "cell_type": "code",
   "execution_count": null,
   "metadata": {
    "collapsed": true
   },
   "outputs": [],
   "source": [
    "# Homework 03\n",
    "# Due Tuesday, February 16th"
   ]
  },
  {
   "cell_type": "code",
   "execution_count": 2,
   "metadata": {
    "collapsed": false
   },
   "outputs": [
    {
     "data": {
      "text/plain": [
       "array([ 0.,  0.,  0.,  0.,  1.,  0.,  0.,  0.,  0.,  0.])"
      ]
     },
     "execution_count": 2,
     "metadata": {},
     "output_type": "execute_result"
    }
   ],
   "source": [
    "# 1. Vector manipulation\n",
    "# Create a vector of zeros of size 10 but have the fifth value be 1.\n",
    "\n",
    "import numpy as np\n",
    "a = np.zeros(10)\n",
    "a[4] = 1\n",
    "\n",
    "a"
   ]
  },
  {
   "cell_type": "code",
   "execution_count": 65,
   "metadata": {
    "collapsed": false
   },
   "outputs": [
    {
     "data": {
      "text/plain": [
       "array([ 10.,  11.,  12.,  13.,  14.,  15.,  16.,  17.,  18.,  19.,  20.,\n",
       "        21.,  22.,  23.,  24.,  25.,  26.,  27.,  28.,  29.,  30.,  31.,\n",
       "        32.,  33.,  34.,  35.,  36.,  37.,  38.,  39.,  40.,  41.,  42.,\n",
       "        43.,  44.,  45.,  46.,  47.,  48.,  49.])"
      ]
     },
     "execution_count": 65,
     "metadata": {},
     "output_type": "execute_result"
    }
   ],
   "source": [
    "# 2. Vector range¶\n",
    "# Create a vector with values ranging from 10 to 49, inclusive.\n",
    "\n",
    "# import numpy as np\n",
    "b = np.linspace(10.0,49.0,40.0)\n",
    "\n",
    "b"
   ]
  },
  {
   "cell_type": "code",
   "execution_count": 20,
   "metadata": {
    "collapsed": false
   },
   "outputs": [
    {
     "name": "stdout",
     "output_type": "stream",
     "text": [
      "[ 10.  11.  12.  13.  14.  15.  16.  17.  18.  19.  20.]\n"
     ]
    },
    {
     "data": {
      "text/plain": [
       "array([ 20.,  19.,  18.,  17.,  16.,  15.,  14.,  13.,  12.,  11.,  10.])"
      ]
     },
     "execution_count": 20,
     "metadata": {},
     "output_type": "execute_result"
    }
   ],
   "source": [
    "# 3. Reverse a vector\n",
    "# Write a function, reverse(x) which reverses a vector, so that the first element becomes the last element. The API should be\n",
    "# return a 1D vector with the elements reversed\n",
    "\n",
    "# Input\n",
    "# -----\n",
    "#     x: 1D array\n",
    "\n",
    "# Output\n",
    "# ------\n",
    "#     res: 1D array, with the elements of `x` reversed\n",
    "\n",
    "# Include this (or an equivalent description) in the function's docstring.\n",
    "\n",
    "def reverse(x):      \n",
    "    'Input ---- x:1D array'\n",
    "    'Output ---- res: 1D array, with the elements of `x` reversed'\n",
    "    return x[::-1]\n",
    "\n",
    "x = np.linspace(10.0,20.0,11.0)\n",
    "print(x)\n",
    "\n",
    "reverse(x)"
   ]
  },
  {
   "cell_type": "code",
   "execution_count": 19,
   "metadata": {
    "collapsed": false
   },
   "outputs": [
    {
     "data": {
      "text/plain": [
       "(array([0, 1, 4], dtype=int64),)"
      ]
     },
     "execution_count": 19,
     "metadata": {},
     "output_type": "execute_result"
    }
   ],
   "source": [
    "# 4. Find indices of non-zero elements\n",
    "# Write a function find_nonzero(x) that finds the indices of non-zero elements, with an API like\n",
    "# return the indices of non-zero elements of an array.\n",
    "\n",
    "# Input:      x:  array\n",
    "# Output:     indices: array of integer indices\n",
    "\n",
    "# Use the function to get out the non-zero elements from an array containing the elements [1,2,0,0,4,0].\n",
    "\n",
    "def find_nonzero(x):\n",
    "    return np.where(x != 0)  # returning values of the array where x does not equal 0\n",
    "\n",
    "arr = np.array([1, 2, 0, 0, 4, 0])\n",
    "\n",
    "find_nonzero(arr)"
   ]
  },
  {
   "cell_type": "code",
   "execution_count": 66,
   "metadata": {
    "collapsed": false
   },
   "outputs": [
    {
     "data": {
      "text/plain": [
       "array([[[ 0.85949755,  0.50163451,  0.36799054],\n",
       "        [ 0.56078998,  0.77158686,  0.99153137],\n",
       "        [ 0.72056668,  0.08256487,  0.16112395]],\n",
       "\n",
       "       [[ 0.1754891 ,  0.40181106,  0.38978535],\n",
       "        [ 0.91560568,  0.28877823,  0.50514033],\n",
       "        [ 0.42208246,  0.39174312,  0.5971212 ]],\n",
       "\n",
       "       [[ 0.57438191,  0.88652111,  0.75484134],\n",
       "        [ 0.27390853,  0.18556743,  0.88882429],\n",
       "        [ 0.16215509,  0.25888253,  0.04330334]]])"
      ]
     },
     "execution_count": 66,
     "metadata": {},
     "output_type": "execute_result"
    }
   ],
   "source": [
    "# 5. Array with random values\n",
    "# Create a 3x3x3 array with normally distributed (μ=0,σ=1) random values.\n",
    "\n",
    "b = np.random.rand(3, 3, 3)\n",
    "b\n",
    "\n",
    "# don't know if this is \"nornally distributed (μ=0,σ=1)\" ???"
   ]
  },
  {
   "cell_type": "code",
   "execution_count": 9,
   "metadata": {
    "collapsed": false
   },
   "outputs": [
    {
     "name": "stdout",
     "output_type": "stream",
     "text": [
      "[7 9 1 0 6 8 1 4 6 4] 0.00246405371103\n",
      "[8 0 3 8 0 2 4 8 4 5] 0.980126891611\n"
     ]
    }
   ],
   "source": [
    "# 6. Operations on an array with random values\n",
    "# Create a 10x10 array with random values. \n",
    "c = np.random.rand(10, 10)\n",
    "\n",
    "# Find the minimum value of the 2nd row\n",
    "imin = c.argmin(axis=1)\n",
    "print(imin, c.min()) # location of the minimum value for each row, min value for the entire array\n",
    "\n",
    "# the maximum value of the 4th column\n",
    "imax = c.argmax(axis=1)\n",
    "print(imax, c.max()) #  c[imax]??\n",
    "\n",
    "# how do you find the min/max of a certain row... not the location or array min/max??"
   ]
  },
  {
   "cell_type": "code",
   "execution_count": 11,
   "metadata": {
    "collapsed": false
   },
   "outputs": [
    {
     "name": "stdout",
     "output_type": "stream",
     "text": [
      "[ 0.09090909  0.18181818  0.27272727  0.36363636  0.45454545  0.54545455\n",
      "  0.63636364  0.72727273  0.81818182  0.90909091]\n"
     ]
    },
    {
     "data": {
      "text/plain": [
       "10"
      ]
     },
     "execution_count": 11,
     "metadata": {},
     "output_type": "execute_result"
    }
   ],
   "source": [
    "# 7. Vector without end points\n",
    "# Create a vector of size 10 with values ranging from 0 to 1, both excluded.\n",
    "\n",
    "d = np.linspace(0,1,12,endpoint=True)[1:-1]\n",
    "print(d) # do I need d to be in the output?\n",
    "d.size"
   ]
  },
  {
   "cell_type": "code",
   "execution_count": 69,
   "metadata": {
    "collapsed": false
   },
   "outputs": [
    {
     "name": "stdout",
     "output_type": "stream",
     "text": [
      "[ 0.94267564  0.82707361  0.29878204  0.03286183  0.14090185  0.04601242\n",
      "  0.20492515  0.4502312   0.76524838  0.28621826]\n"
     ]
    },
    {
     "data": {
      "text/plain": [
       "array([ 0.03286183,  0.04601242,  0.14090185,  0.20492515,  0.28621826,\n",
       "        0.29878204,  0.4502312 ,  0.76524838,  0.82707361,  0.94267564])"
      ]
     },
     "execution_count": 69,
     "metadata": {},
     "output_type": "execute_result"
    }
   ],
   "source": [
    "# 8. Sorted random vector¶\n",
    "# Create a random vector of size 10, then sort it.\n",
    "\n",
    "e = np.random.random(10)\n",
    "print(e) # not sorted... random\n",
    "e.sort()\n",
    "e # sorted in order from least to greatest values"
   ]
  },
  {
   "cell_type": "code",
   "execution_count": 25,
   "metadata": {
    "collapsed": false
   },
   "outputs": [
    {
     "data": {
      "text/plain": [
       "(False, True, False)"
      ]
     },
     "execution_count": 25,
     "metadata": {},
     "output_type": "execute_result"
    }
   ],
   "source": [
    "# 9. Test for array equality\n",
    "# Write a function is_equal(A, B) that compare two arrays A and B and checks to see if they are equal.\n",
    "# return True if two arrays are the same shape and all the elements are equal.\n",
    "\n",
    "# Inputs:\n",
    "#     A, B:  array\n",
    "# Output:\n",
    "#     Bool:  True if A and B have the same shape and identical elements.\n",
    "\n",
    "# The arrays count as equal if they are the same shape and all elements in the array are equal.\n",
    "\n",
    "def is_equal(x,y):\n",
    "    return np.allclose(x,y)\n",
    "\n",
    "# two random arrays of the same dimension that won't be equal most of the time\n",
    "A = np.random.randint(0,2,5)\n",
    "B = np.random.randint(0,2,5)\n",
    "\n",
    "# two equivalent arrays of the same dimension that will always be equal\n",
    "A2 = np.array([[1., 2., 3.,], [4., 5., 6.]])\n",
    "B2 = np.array([[1., 2., 3.,], [4., 5., 6.]])\n",
    "\n",
    "# two differnet arrays of the same dimension that will never be equal\n",
    "A3 = np.array([[1., 2., 3.,], [4., 5., 6.]])\n",
    "B3 = np.array([[2., 4., 6.,], [8., 10., 12.]])\n",
    "\n",
    "is_equal(A,B), is_equal(A2,B2), is_equal(A3,B3)"
   ]
  },
  {
   "cell_type": "code",
   "execution_count": 50,
   "metadata": {
    "collapsed": false
   },
   "outputs": [
    {
     "name": "stdout",
     "output_type": "stream",
     "text": [
      "[[ 2.]\n",
      " [ 5.]]\n"
     ]
    },
    {
     "data": {
      "text/plain": [
       "array([[-1.,  0.,  1.],\n",
       "       [-1.,  0.,  1.]])"
      ]
     },
     "execution_count": 50,
     "metadata": {},
     "output_type": "execute_result"
    }
   ],
   "source": [
    "# 10. Subtract the row mean from rows of a matrix\n",
    "# Create a matrix. Then subtract the mean of each row of the matrix from the respective row. \n",
    "# Do this without using a loop (that is, using array operations).\n",
    "\n",
    "f = np.array([[1., 2., 3.,], [4., 5., 6.]]) # my created matrix\n",
    "g = f - f.mean(axis=1, keepdims=True) # the matrix with the mean of each row subtracted from the respective row.\n",
    "                                        # how does \"f.mean(axis=1, keepdims=True)\" work??\n",
    "\n",
    "print(f.mean(axis=1, keepdims=True))\n",
    "\n",
    "g"
   ]
  },
  {
   "cell_type": "code",
   "execution_count": 27,
   "metadata": {
    "collapsed": false
   },
   "outputs": [
    {
     "data": {
      "text/plain": [
       "(array([[[ 0.29266333,  0.0035441 ,  0.17392323],\n",
       "         [ 0.09954094,  0.03087895,  0.05428363],\n",
       "         [ 0.31980335,  0.11778372,  0.65776674],\n",
       "         [ 0.59417137,  0.18674247,  0.29936841],\n",
       "         [ 0.50737304,  0.24848907,  0.02974263]],\n",
       " \n",
       "        [[ 0.2100599 ,  0.15566047,  0.37771072],\n",
       "         [ 0.02992649,  0.0312235 ,  0.00302219],\n",
       "         [ 0.05880916,  0.01420086,  0.13435405],\n",
       "         [ 0.02889257,  0.06682736,  0.27674769],\n",
       "         [ 0.79398686,  0.87457126,  0.34721088]],\n",
       " \n",
       "        [[ 0.14489302,  0.14357576,  0.40770076],\n",
       "         [ 0.20119033,  0.30361443,  0.43509519],\n",
       "         [ 0.33251004,  0.22003558,  0.01730321],\n",
       "         [ 0.16418863,  0.34276481,  0.37973792],\n",
       "         [ 0.04391276,  0.02266859,  0.27949693]],\n",
       " \n",
       "        [[ 0.20389196,  0.26130652,  0.4115689 ],\n",
       "         [ 0.28684453,  0.25401209,  0.2403504 ],\n",
       "         [ 0.01129306,  0.04279271,  0.08209507],\n",
       "         [ 0.18617915,  0.05912299,  0.02844793],\n",
       "         [ 0.06363839,  0.1344771 ,  0.0378382 ]],\n",
       " \n",
       "        [[ 0.43664635,  0.47892227,  0.54896533],\n",
       "         [ 0.00563095,  0.0051513 ,  0.00689274],\n",
       "         [ 0.23900959,  0.37095816,  0.06086493],\n",
       "         [ 0.08863832,  0.36543601,  0.33592732],\n",
       "         [ 0.09904532,  0.21663173,  0.01193961]]]),\n",
       " array([[[  4.24442262e-02,   4.44505181e-01,   6.27508797e-01,\n",
       "            5.83301733e-01,   2.54803946e-01],\n",
       "         [  2.68898157e-01,   4.90233275e-03,   1.05587997e-01,\n",
       "            5.58028741e-01,   8.86309042e-01],\n",
       "         [  4.87890316e-01,   1.80301520e-02,   2.09832285e-01,\n",
       "            5.60292024e-01,   5.36087382e-01],\n",
       "         [  2.87769745e-01,   1.19374371e-01,   7.71174316e-02,\n",
       "            1.49565527e-01,   4.82393704e-02],\n",
       "         [  4.86166658e-01,   2.23513950e-04,   3.61273455e-01,\n",
       "            3.40260552e-01,   1.00252268e-02]],\n",
       " \n",
       "        [[  1.26344720e-01,   3.97129356e-02,   6.57874136e-01,\n",
       "            2.27998273e-01,   1.46055638e-01],\n",
       "         [  8.09397217e-02,   8.69072259e-03,   1.17356260e-01,\n",
       "            1.02117731e-01,   1.45396152e-01],\n",
       "         [  4.22307760e-01,   3.87794289e-01,   1.03155647e-02,\n",
       "            5.53513721e-01,   2.47790574e-01],\n",
       "         [  1.77415998e-01,   4.47726460e-01,   2.88751772e-02,\n",
       "            8.67350989e-03,   6.08555803e-02],\n",
       "         [  7.81081105e-01,   5.87462992e-03,   2.66107553e-01,\n",
       "            2.85693757e-01,   1.36015764e-01]],\n",
       " \n",
       "        [[  3.01196942e-02,   8.79543803e-02,   1.65625935e-02,\n",
       "            2.07482592e-01,   1.51653210e-01],\n",
       "         [  3.63401578e-01,   1.40699451e-02,   1.19863648e-01,\n",
       "            3.05002309e-01,   6.16005265e-01],\n",
       "         [  5.69926834e-01,   2.08565790e-01,   3.52001346e-01,\n",
       "            2.98628535e-03,   4.45758697e-01],\n",
       "         [  2.89523052e-01,   2.28283826e-01,   4.15390492e-02,\n",
       "            9.99437049e-02,   1.01837001e-02],\n",
       "         [  5.27009072e-02,   8.52010489e-05,   2.53942754e-01,\n",
       "            3.09898441e-01,   1.46831373e-01]]]))"
      ]
     },
     "execution_count": 27,
     "metadata": {},
     "output_type": "execute_result"
    }
   ],
   "source": [
    "# 11. Multiply arrays\n",
    "# Multiply an array of dimension (5,5,3) with an array with dimensions (5,5).\n",
    "# Then multiply an array of dimension (3,5,5) with an array of dimension (5,5).\n",
    "\n",
    "h = np.random.rand(5,5,3)  # a 3D array using random numbers\n",
    "i = np.random.rand(5,5)    # a 2D array using random numbers\n",
    "\n",
    "j = np.random.rand(3,5,5)  # a 3D array using random numbers\n",
    "\n",
    "sol1 = h * i[:,:,None]      # element-by-element multiplication letting the 2D array act like a 3D array.\n",
    "sol2 = j * i[None,:,:]      # element-by-element multiplication letting the 2D array act like a 3D array.\n",
    "\n",
    "sol1, sol2"
   ]
  },
  {
   "cell_type": "code",
   "execution_count": 28,
   "metadata": {
    "collapsed": false
   },
   "outputs": [
    {
     "data": {
      "text/plain": [
       "array([ 1,  2,  3,  4,  5,  6,  7,  8,  9, 10, 11, 12, 13, 14])"
      ]
     },
     "execution_count": 28,
     "metadata": {},
     "output_type": "execute_result"
    }
   ],
   "source": [
    "# 12. Creating a new array\n",
    "# Starting with an array\n",
    "Z = np.array([1,2,3,4,5,6,7,8,9,10,11,12,13,14])\n",
    "Z\n",
    "\n",
    "# Generate an array\n",
    "# R = [[1,2,3,4], [2,3,4,5], [3,4,5,6], ..., [11,12,13,14]].\n",
    "\n",
    "\n",
    "# ????\n",
    "\n"
   ]
  },
  {
   "cell_type": "code",
   "execution_count": 38,
   "metadata": {
    "collapsed": false
   },
   "outputs": [
    {
     "data": {
      "text/plain": [
       "array([[[[ 1.41421356,  2.82842712],\n",
       "         [ 3.16227766,  5.38516481],\n",
       "         [ 2.23606798,  7.28010989]],\n",
       "\n",
       "        [[ 3.16227766,  5.38516481],\n",
       "         [ 4.24264069,  7.07106781],\n",
       "         [ 3.60555128,  8.60232527]],\n",
       "\n",
       "        [[ 2.23606798,  7.28010989],\n",
       "         [ 3.60555128,  8.60232527],\n",
       "         [ 2.82842712,  9.89949494]]],\n",
       "\n",
       "\n",
       "       [[[ 0.78539816,  0.78539816],\n",
       "         [ 1.24904577,  1.19028995],\n",
       "         [ 1.10714872,  1.29249667]],\n",
       "\n",
       "        [[ 0.32175055,  0.38050638],\n",
       "         [ 0.78539816,  0.78539816],\n",
       "         [ 0.5880026 ,  0.95054684]],\n",
       "\n",
       "        [[ 0.46364761,  0.27829966],\n",
       "         [ 0.98279372,  0.62024949],\n",
       "         [ 0.78539816,  0.78539816]]]])"
      ]
     },
     "execution_count": 38,
     "metadata": {},
     "output_type": "execute_result"
    }
   ],
   "source": [
    "# 13. Convert from Cartesian to polar coordinates¶\n",
    "# Write a function cart2polar(xy) which takes in an Nx2 matrix of x, y pairs representing Cartesian coordinates and return\n",
    "# the locations represented in polar coordinates in the same shape matrix. The API is\n",
    "# Return equivalent polar coordinates of specified cartesian points.\n",
    "\n",
    "# Inputs:\n",
    "#     xy: array\n",
    "#          Nx2 array of Cartesian coordinates, with columns x and y respectively.\n",
    "# Returns:\n",
    "#     rp: array\n",
    "#         Nx2 array of polar coordinates, with columns radius and angle respectively\n",
    "xy = np.array([[1,2], [3,5], [2,7]])\n",
    "\n",
    "# defining function coverting cartesian coordinates to polar... point by point...\n",
    "# def cart2pol(x, y):\n",
    "#     rho = np.sqrt(x**2 + y**2)\n",
    "#     phi = np.arctan2(y, x)\n",
    "#     return(rho, phi)\n",
    "\n",
    "# trying to do that calling x and y values from an array...\n",
    "def cart2pol(x):\n",
    "    rho = np.sqrt(x[:, None]**2 + x[None,:]**2)\n",
    "    phi = np.arctan2(x[None,:], x[:,None]) # why can't we divide here?\n",
    "    return(np.array([rho, phi]))\n",
    "\n",
    "cart2pol(xy) # this gives me multiple arrays...???\n",
    "\n",
    "\n",
    "#???"
   ]
  },
  {
   "cell_type": "code",
   "execution_count": null,
   "metadata": {
    "collapsed": true
   },
   "outputs": [],
   "source": [
    "# 14. Compute and time for loops and array operations.\n",
    "# Calculate the time it takes to do what we did in class\n",
    "# a = np.arange(1024.0).reshape(4, 8, 16, 2)   # a 4D array using sequential numbers\n",
    "# b = np.random.rand(4, 8, 16, 2)              # a 4D array using random numbers\n",
    "# sol = a * b  # element-by-element multiplication. This operation is about as fast as it can be on your computer.\n",
    "\n",
    "# and the time required for doing the same operation with a series of 4 for loops, one for each dimension of the arrays. \n",
    "# Compare the times by calculating a ratio."
   ]
  },
  {
   "cell_type": "code",
   "execution_count": 45,
   "metadata": {
    "collapsed": false
   },
   "outputs": [
    {
     "ename": "AssertionError",
     "evalue": "",
     "output_type": "error",
     "traceback": [
      "\u001b[1;31m---------------------------------------------------------------------------\u001b[0m",
      "\u001b[1;31mAssertionError\u001b[0m                            Traceback (most recent call last)",
      "\u001b[1;32m<ipython-input-45-9a5feb9a309f>\u001b[0m in \u001b[0;36m<module>\u001b[1;34m()\u001b[0m\n\u001b[0;32m     28\u001b[0m \u001b[0mres\u001b[0m \u001b[1;33m=\u001b[0m \u001b[0mcalculate\u001b[0m\u001b[1;33m(\u001b[0m\u001b[0ma\u001b[0m\u001b[1;33m,\u001b[0m \u001b[0mb\u001b[0m\u001b[1;33m[\u001b[0m\u001b[1;33m:\u001b[0m\u001b[1;33m,\u001b[0m \u001b[1;32mNone\u001b[0m\u001b[1;33m]\u001b[0m\u001b[1;33m)\u001b[0m \u001b[1;31m# I made the b array 2D so that I could multiply it with the 2D array a.\u001b[0m\u001b[1;33m\u001b[0m\u001b[0m\n\u001b[0;32m     29\u001b[0m \u001b[1;33m\u001b[0m\u001b[0m\n\u001b[1;32m---> 30\u001b[1;33m \u001b[1;32massert\u001b[0m \u001b[1;33m(\u001b[0m\u001b[0mres\u001b[0m \u001b[1;33m==\u001b[0m \u001b[0mnp\u001b[0m\u001b[1;33m.\u001b[0m\u001b[0marray\u001b[0m\u001b[1;33m(\u001b[0m\u001b[1;33m[\u001b[0m\u001b[1;33m[\u001b[0m \u001b[1;36m2.25\u001b[0m\u001b[1;33m,\u001b[0m  \u001b[1;36m2.25\u001b[0m\u001b[1;33m]\u001b[0m\u001b[1;33m,\u001b[0m\u001b[1;33m[\u001b[0m \u001b[1;36m2.25\u001b[0m\u001b[1;33m,\u001b[0m  \u001b[1;36m2.25\u001b[0m\u001b[1;33m]\u001b[0m\u001b[1;33m,\u001b[0m\u001b[1;33m[\u001b[0m \u001b[1;36m3.\u001b[0m\u001b[1;33m,\u001b[0m \u001b[1;36m3.\u001b[0m\u001b[1;33m]\u001b[0m\u001b[1;33m]\u001b[0m\u001b[1;33m)\u001b[0m\u001b[1;33m)\u001b[0m\u001b[1;33m.\u001b[0m\u001b[0mall\u001b[0m\u001b[1;33m(\u001b[0m\u001b[1;33m)\u001b[0m\u001b[1;33m\u001b[0m\u001b[0m\n\u001b[0m",
      "\u001b[1;31mAssertionError\u001b[0m: "
     ]
    }
   ],
   "source": [
    "# 15. Fix the code\n",
    "# This code needs to be fixed so that it can run properly and pass the assertion test at the bottom. \n",
    "# Write out what you changed to make it work and why it needed to be changed.\n",
    "\n",
    "def calculate(a, b):\n",
    "    \"\"\"Do some calculations\n",
    "    \n",
    "    Take in two arrays, subtract 1/4 of the [:2,:] elements from the elements themselves.\n",
    "    Then multiply with array b and return the result.\n",
    "    \n",
    "    Inputs:\n",
    "        a: input array, shape [MxN]\n",
    "        b: input array, shape [M]\n",
    "    \n",
    "    Returns:\n",
    "        resultant array\n",
    "    \"\"\"\n",
    "\n",
    "    aa = a[:2, :]\n",
    "    aa /= 4.\n",
    "    a[:2, :] -= aa\n",
    "\n",
    "    return a*b\n",
    "    \n",
    "\n",
    "a = np.ones((3, 2)) \n",
    "b = np.ones(3)*3\n",
    "res = calculate(a, b[:, None]) # I made the b array 2D so that I could multiply it with the 2D array a.\n",
    "\n",
    "assert (res == np.array([[ 2.25,  2.25],[ 2.25,  2.25],[ 3., 3.]])).all()\n",
    "\n",
    "# what does this asserstion error even mean?? What 'makes it true'???"
   ]
  },
  {
   "cell_type": "code",
   "execution_count": 41,
   "metadata": {
    "collapsed": false
   },
   "outputs": [
    {
     "data": {
      "text/plain": [
       "array([ 3.,  3.,  3.])"
      ]
     },
     "execution_count": 41,
     "metadata": {},
     "output_type": "execute_result"
    }
   ],
   "source": [
    "b"
   ]
  },
  {
   "cell_type": "code",
   "execution_count": null,
   "metadata": {
    "collapsed": true
   },
   "outputs": [],
   "source": [
    "# 16. Calculate components of a vector\n",
    "# Read in file data/burl1h2010.txt. This file gives a bunch of data from a wind station. In particular, read in the \n",
    "# wind direction, WDIR, and wind speed, WSPD. Then, write a function that calculates and returns the u and v components of this \n",
    "# wind vector, which point along the x- and y-axes.\n",
    "# The function should have the following basic functionality:\n",
    "# Take in vector and return components.\n",
    "\n",
    "# Inputs:\n",
    "#     vdir: vector direction in degrees\n",
    "#     vspd: vector magnitude\n",
    "\n",
    "# Returns:\n",
    "#     u: x component of vector\n",
    "#     v: y component of vector"
   ]
  },
  {
   "cell_type": "code",
   "execution_count": null,
   "metadata": {
    "collapsed": true
   },
   "outputs": [],
   "source": [
    "# 17. (Grad) Write and use a class\n",
    "# Consider one of the data files located in python4geosciences/data/MCH/. Write a class, dataclass, to store some of the \n",
    "# information in the file. The class should:\n",
    "# be initialized with the name of the file (without file type suffix of .cnv2), and the temperature and salinity values \n",
    "# found in the file;\n",
    "# contain a method, salt_mean, which returns the mean of the salinity;\n",
    "# contain a method, temp_max, which returns the maximum value of the temperature values.\n",
    "# Notice that there are many data files in this directory. It would be a lot of work to read them all in by hand. \n",
    "# Instead, write a loop which loops through the file names, reads in the necessary data, calls dataclass to store the \n",
    "# data in a class instance, and adds it to a list of all of the class instances. At the end of your solution, you should \n",
    "# have a list of all of the class instances, one for each data file.\n",
    "# Hint: Check out the package glob for reading in file names with a wild card."
   ]
  },
  {
   "cell_type": "code",
   "execution_count": null,
   "metadata": {
    "collapsed": true
   },
   "outputs": [],
   "source": [
    "# 18. (Grad) Running mean\n",
    "# Write a function that computes averages using a sliding window over a vector; that is, it should take in a vector and for every \n",
    "# element in the vector, compute the average of that point with the N points on either side of the element. N should also be \n",
    "# an input parameter, and the function should return the original vector if N=0. The returned vector should be the same size \n",
    "# as the input vector.\n",
    "# Do not use the pandas package or the function convolve; instead, use a loop. Use the following API for your function:\n",
    "# Return the running average of a vector, with averaging window of size N.\n",
    "\n",
    "# Inputs:\n",
    "#     vec: Input vector\n",
    "#     N (int): Averaging window size, or number of elements to include in mean on either side of each element.\n",
    "\n",
    "# Outputs:\n",
    "#     out: Vector of running-averaged values; same size as vec"
   ]
  }
 ],
 "metadata": {
  "kernelspec": {
   "display_name": "Python 3",
   "language": "python",
   "name": "python3"
  },
  "language_info": {
   "codemirror_mode": {
    "name": "ipython",
    "version": 3
   },
   "file_extension": ".py",
   "mimetype": "text/x-python",
   "name": "python",
   "nbconvert_exporter": "python",
   "pygments_lexer": "ipython3",
   "version": "3.5.1"
  }
 },
 "nbformat": 4,
 "nbformat_minor": 0
}
