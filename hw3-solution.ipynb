{
 "cells": [
  {
   "cell_type": "code",
   "execution_count": null,
   "metadata": {
    "collapsed": true
   },
   "outputs": [],
   "source": [
    "# Homework 03\n",
    "# Due Tuesday, February 16th"
   ]
  },
  {
   "cell_type": "code",
   "execution_count": 2,
   "metadata": {
    "collapsed": false
   },
   "outputs": [
    {
     "name": "stdout",
     "output_type": "stream",
     "text": [
      "[ 0.  0.  0.  0.  1.  0.  0.  0.  0.  0.]\n"
     ]
    }
   ],
   "source": [
    "# 1. Vector manipulation\n",
    "# Create a vector of zeros of size 10 but have the fifth value be 1.\n",
    "\n",
    "import numpy as np\n",
    "a = np.zeros(10)\n",
    "a[4] = 1\n",
    "\n",
    "print(a)"
   ]
  },
  {
   "cell_type": "code",
   "execution_count": 14,
   "metadata": {
    "collapsed": false
   },
   "outputs": [
    {
     "name": "stdout",
     "output_type": "stream",
     "text": [
      "[ 10.  11.  12.  13.  14.  15.  16.  17.  18.  19.  20.  21.  22.  23.  24.\n",
      "  25.  26.  27.  28.  29.  30.  31.  32.  33.  34.  35.  36.  37.  38.  39.\n",
      "  40.  41.  42.  43.  44.  45.  46.  47.  48.  49.]\n"
     ]
    }
   ],
   "source": [
    "# 2. Vector range¶\n",
    "# Create a vector with values ranging from 10 to 49, inclusive.\n",
    "\n",
    "# import numpy as np\n",
    "b = np.linspace(10.0,49.0,40.0)\n",
    "\n",
    "print(b)"
   ]
  },
  {
   "cell_type": "code",
   "execution_count": 20,
   "metadata": {
    "collapsed": false
   },
   "outputs": [
    {
     "name": "stdout",
     "output_type": "stream",
     "text": [
      "[ 10.  11.  12.  13.  14.  15.  16.  17.  18.  19.  20.]\n"
     ]
    },
    {
     "data": {
      "text/plain": [
       "array([ 20.,  19.,  18.,  17.,  16.,  15.,  14.,  13.,  12.,  11.,  10.])"
      ]
     },
     "execution_count": 20,
     "metadata": {},
     "output_type": "execute_result"
    }
   ],
   "source": [
    "# 3. Reverse a vector\n",
    "# Write a function, reverse(x) which reverses a vector, so that the first element becomes the last element. The API should be\n",
    "# return a 1D vector with the elements reversed\n",
    "\n",
    "# Input\n",
    "# -----\n",
    "#     x: 1D array\n",
    "\n",
    "# Output\n",
    "# ------\n",
    "#     res: 1D array, with the elements of `x` reversed\n",
    "\n",
    "# Include this (or an equivalent description) in the function's docstring.\n",
    "\n",
    "def reverse(x):      \n",
    "    'Input ---- x:1D array'\n",
    "    'Output ---- res: 1D array, with the elements of `x` reversed'\n",
    "    return x[::-1]\n",
    "\n",
    "x = np.linspace(10.0,20.0,11.0)\n",
    "print(x)\n",
    "\n",
    "reverse(x)"
   ]
  },
  {
   "cell_type": "code",
   "execution_count": 9,
   "metadata": {
    "collapsed": false
   },
   "outputs": [
    {
     "data": {
      "text/plain": [
       "(array([0], dtype=int64),)"
      ]
     },
     "execution_count": 9,
     "metadata": {},
     "output_type": "execute_result"
    }
   ],
   "source": [
    "# 4. Find indices of non-zero elements\n",
    "# Write a function find_nonzero(x) that finds the indices of non-zero elements, with an API like\n",
    "# return the indices of non-zero elements of an array.\n",
    "\n",
    "# Input:      x:  array\n",
    "# Output:     indices: array of integer indices\n",
    "\n",
    "# Use the function to get out the non-zero elements from an array containing the elements [1,2,0,0,4,0].\n",
    "\n",
    "def find_nonzero(x):\n",
    "    return np.where(x != 0)\n",
    "\n",
    "arr = [1,2,0,0,4,0]\n",
    "\n",
    "find_nonzero(arr)\n",
    "\n",
    "# ???"
   ]
  },
  {
   "cell_type": "code",
   "execution_count": 10,
   "metadata": {
    "collapsed": false
   },
   "outputs": [
    {
     "name": "stdout",
     "output_type": "stream",
     "text": [
      "[[[ 0.8956954   0.3512049   0.22924425]\n",
      "  [ 0.88775031  0.06946026  0.03279106]\n",
      "  [ 0.09192948  0.13772578  0.45343383]]\n",
      "\n",
      " [[ 0.97985689  0.24925947  0.07574758]\n",
      "  [ 0.59794769  0.26705589  0.04758584]\n",
      "  [ 0.82793036  0.02869034  0.54645134]]\n",
      "\n",
      " [[ 0.67332094  0.02799014  0.28186543]\n",
      "  [ 0.60941261  0.51377413  0.49351721]\n",
      "  [ 0.54937183  0.00765017  0.58438134]]]\n"
     ]
    }
   ],
   "source": [
    "# 5. Array with random values\n",
    "# Create a 3x3x3 array with normally distributed (μ=0,σ=1) random values.\n",
    "\n",
    "b = np.random.rand(3, 3, 3)\n",
    "print(b)\n",
    "\n",
    "# don't know if this is \"nornally distributed (μ=0,σ=1)\""
   ]
  },
  {
   "cell_type": "code",
   "execution_count": 33,
   "metadata": {
    "collapsed": false
   },
   "outputs": [
    {
     "name": "stdout",
     "output_type": "stream",
     "text": [
      "[[ 0.36615845  0.24421801  0.98255147]\n",
      " [ 0.90522894  0.3751932   0.26438592]\n",
      " [ 0.73405554  0.00226101  0.86598361]]\n",
      "[1 2 1]\n",
      "[2 0 2]\n"
     ]
    }
   ],
   "source": [
    "# 6. Operations on an array with random values\n",
    "# Create a 10x10 array with random values. \n",
    "c = np.random.rand(10, 10)\n",
    "# or c = rand(10, 10, 10)\n",
    "print(c)\n",
    "\n",
    "# Find the minimum value of the 2nd row\n",
    "imin = c.argmin(axis=1)\n",
    "print(imin) #, c[imin])\n",
    "\n",
    "# this doesn't seem to even work... and this is supposed to spit out the indices and values of the min values...\n",
    "\n",
    "\n",
    "# the maximum value of the 4th column\n",
    "imax = c.argmax(axis=1)\n",
    "print(imax) #, c[imax], c.max())"
   ]
  },
  {
   "cell_type": "code",
   "execution_count": 39,
   "metadata": {
    "collapsed": false
   },
   "outputs": [
    {
     "name": "stdout",
     "output_type": "stream",
     "text": [
      "[ 0.09090909  0.18181818  0.27272727  0.36363636  0.45454545  0.54545455\n",
      "  0.63636364  0.72727273  0.81818182  0.90909091]\n"
     ]
    },
    {
     "data": {
      "text/plain": [
       "10"
      ]
     },
     "execution_count": 39,
     "metadata": {},
     "output_type": "execute_result"
    }
   ],
   "source": [
    "# 7. Vector without end points\n",
    "# Create a vector of size 10 with values ranging from 0 to 1, both excluded.\n",
    "\n",
    "d = np.linspace(0,1,12,endpoint=True)[1:-1]\n",
    "print(d)\n",
    "d.size"
   ]
  },
  {
   "cell_type": "code",
   "execution_count": 41,
   "metadata": {
    "collapsed": false
   },
   "outputs": [
    {
     "name": "stdout",
     "output_type": "stream",
     "text": [
      "[ 0.40004503  0.19380074  0.35261718  0.51016843  0.3189525   0.25982189\n",
      "  0.88936162  0.93499698  0.21744776  0.72903817]\n",
      "[ 0.19380074  0.21744776  0.25982189  0.3189525   0.35261718  0.40004503\n",
      "  0.51016843  0.72903817  0.88936162  0.93499698]\n"
     ]
    }
   ],
   "source": [
    "# 8. Sorted random vector¶\n",
    "# Create a random vector of size 10, then sort it.\n",
    "\n",
    "e = np.random.random(10)\n",
    "print(e) # not sorted... random\n",
    "e.sort()\n",
    "print(e) # sorted in order from least to greatest values"
   ]
  },
  {
   "cell_type": "code",
   "execution_count": 45,
   "metadata": {
    "collapsed": false
   },
   "outputs": [
    {
     "data": {
      "text/plain": [
       "False"
      ]
     },
     "execution_count": 45,
     "metadata": {},
     "output_type": "execute_result"
    }
   ],
   "source": [
    "# 9. Test for array equality\n",
    "# Write a function is_equal(A, B) that compare two arrays A and B and checks to see if they are equal.\n",
    "# return True if two arrays are the same shape and all the elements are equal.\n",
    "\n",
    "# Inputs:\n",
    "#     A, B:  array\n",
    "# Output:\n",
    "#     Bool:  True if A and B have the same shape and identical elements.\n",
    "\n",
    "# The arrays count as equal if they are the same shape and all elements in the array are equal.\n",
    "\n",
    "def is_equal(x,y):\n",
    "    return np.allclose(x,y)\n",
    "\n",
    "A = np.random.randint(0,2,5)\n",
    "B = np.random.randint(0,2,5)\n",
    "\n",
    "is_equal(A,B)"
   ]
  },
  {
   "cell_type": "code",
   "execution_count": 44,
   "metadata": {
    "collapsed": false
   },
   "outputs": [
    {
     "data": {
      "text/plain": [
       "True"
      ]
     },
     "execution_count": 44,
     "metadata": {},
     "output_type": "execute_result"
    }
   ],
   "source": [
    "# 9. Continued with equal arrays...\n",
    "\n",
    "A2 = np.array([[1., 2., 3.,], [4., 5., 6.]])\n",
    "B2 = np.array([[1., 2., 3.,], [4., 5., 6.]])\n",
    "\n",
    "is_equal(A2,B2)"
   ]
  },
  {
   "cell_type": "code",
   "execution_count": 50,
   "metadata": {
    "collapsed": false
   },
   "outputs": [
    {
     "name": "stdout",
     "output_type": "stream",
     "text": [
      "[[ 2.]\n",
      " [ 5.]]\n"
     ]
    },
    {
     "data": {
      "text/plain": [
       "array([[-1.,  0.,  1.],\n",
       "       [-1.,  0.,  1.]])"
      ]
     },
     "execution_count": 50,
     "metadata": {},
     "output_type": "execute_result"
    }
   ],
   "source": [
    "# 10. Subtract the row mean from rows of a matrix\n",
    "# Create a matrix. Then subtract the mean of each row of the matrix from the respective row. \n",
    "# Do this without using a loop (that is, using array operations).\n",
    "\n",
    "f = np.array([[1., 2., 3.,], [4., 5., 6.]])\n",
    "g = f - f.mean(axis=1, keepdims=True)\n",
    "\n",
    "print(f.mean(axis=1, keepdims=True))\n",
    "\n",
    "g"
   ]
  },
  {
   "cell_type": "code",
   "execution_count": 55,
   "metadata": {
    "collapsed": false
   },
   "outputs": [
    {
     "data": {
      "text/plain": [
       "array([[[  9.83698970e-02,   4.78625321e-01,   3.68648125e-02],\n",
       "        [  6.90756560e-01,   5.33097921e-02,   2.11994519e-02],\n",
       "        [  1.36290024e-01,   9.26474718e-02,   8.51271824e-02],\n",
       "        [  3.88990641e-01,   9.15010594e-01,   8.18383793e-01],\n",
       "        [  1.55124909e-02,   4.28152901e-01,   1.01540640e-04]],\n",
       "\n",
       "       [[  5.70754105e-01,   4.85352055e-01,   5.64572030e-02],\n",
       "        [  2.52032841e-01,   1.51557213e-01,   2.80256845e-01],\n",
       "        [  4.49630122e-02,   2.21841353e-01,   1.38321707e-01],\n",
       "        [  3.33964285e-01,   3.67362687e-02,   5.79269633e-01],\n",
       "        [  3.90412956e-01,   2.95392878e-02,   5.05351050e-02]],\n",
       "\n",
       "       [[  4.92002120e-01,   1.43915113e-02,   2.50908070e-01],\n",
       "        [  1.50888176e-01,   1.10902910e-01,   2.42235371e-01],\n",
       "        [  3.06655873e-02,   1.08396786e-02,   2.68809728e-02],\n",
       "        [  2.16504511e-01,   3.00558671e-02,   2.99248631e-02],\n",
       "        [  7.10987137e-01,   2.76884577e-01,   3.78885112e-01]],\n",
       "\n",
       "       [[  8.12685450e-01,   6.64427867e-01,   3.75951133e-01],\n",
       "        [  2.16167881e-01,   3.62284953e-01,   3.00183527e-01],\n",
       "        [  2.53769797e-01,   5.33799213e-02,   7.14441541e-02],\n",
       "        [  1.81570347e-01,   1.34100876e-01,   1.08927993e-01],\n",
       "        [  4.57621113e-03,   2.03649918e-02,   3.25539502e-02]],\n",
       "\n",
       "       [[  3.95078946e-01,   3.14340807e-01,   5.00628748e-01],\n",
       "        [  6.71027300e-02,   6.07275004e-02,   6.88588041e-02],\n",
       "        [  1.56191758e-02,   2.26205279e-02,   2.68269698e-02],\n",
       "        [  2.05257118e-02,   2.03587230e-01,   1.09972046e-01],\n",
       "        [  1.82139315e-01,   1.52024943e-01,   5.66276116e-02]]])"
      ]
     },
     "execution_count": 55,
     "metadata": {},
     "output_type": "execute_result"
    }
   ],
   "source": [
    "# 11. Multiply arrays\n",
    "# Multiply an array of dimension (5,5,3) with an array with dimensions (5,5).\n",
    "# Then multiply an array of dimension (3,5,5) with an array of dimension (5,5).\n",
    "h = np.random.rand(5,5,3)  # a 3D array using random numbers\n",
    "i = np.random.rand(5,5)    # a 2D array using random numbers\n",
    "\n",
    "sol = h * i[:,:,None]      # element-by-element multiplication letting the 2D array act like a 3D array.\n",
    "sol"
   ]
  },
  {
   "cell_type": "code",
   "execution_count": null,
   "metadata": {
    "collapsed": true
   },
   "outputs": [],
   "source": [
    "# 12. Creating a new array\n",
    "# Starting with an array\n",
    "# Z = [1,2,3,4,5,6,7,8,9,10,11,12,13,14].\n",
    "\n",
    "# Generate an array\n",
    "# R = [[1,2,3,4], [2,3,4,5], [3,4,5,6], ..., [11,12,13,14]]."
   ]
  },
  {
   "cell_type": "code",
   "execution_count": null,
   "metadata": {
    "collapsed": true
   },
   "outputs": [],
   "source": [
    "# 13. Convert from Cartesian to polar coordinates¶\n",
    "# Write a function cart2polar(xy) which takes in an Nx2 matrix of x, y pairs representing Cartesian coordinates and return\n",
    "# the locations represented in polar coordinates in the same shape matrix. The API is\n",
    "# Return equivalent polar coordinates of specified cartesian points.\n",
    "\n",
    "# Inputs:\n",
    "#     xy: array\n",
    "#          Nx2 array of Cartesian coordinates, with columns x and y respectively.\n",
    "\n",
    "# Returns:\n",
    "#     rp: array\n",
    "#         Nx2 array of polar coordinates, with columns radius and angle respectively"
   ]
  },
  {
   "cell_type": "code",
   "execution_count": null,
   "metadata": {
    "collapsed": true
   },
   "outputs": [],
   "source": [
    "# 14. Compute and time for loops and array operations.\n",
    "# Calculate the time it takes to do what we did in class\n",
    "# a = np.arange(1024.0).reshape(4, 8, 16, 2)   # a 4D array using sequential numbers\n",
    "# b = np.random.rand(4, 8, 16, 2)              # a 4D array using random numbers\n",
    "# sol = a * b  # element-by-element multiplication. This operation is about as fast as it can be on your computer.\n",
    "\n",
    "# and the time required for doing the same operation with a series of 4 for loops, one for each dimension of the arrays. \n",
    "# Compare the times by calculating a ratio."
   ]
  },
  {
   "cell_type": "code",
   "execution_count": null,
   "metadata": {
    "collapsed": true
   },
   "outputs": [],
   "source": [
    "# 15. Fix the code\n",
    "# This code needs to be fixed so that it can run properly and pass the assertion test at the bottom. \n",
    "# Write out what you changed to make it work and why it needed to be changed.\n",
    "\n",
    "def calculate(a, b):\n",
    "    \"\"\"Do some calculations\n",
    "    \n",
    "    Take in two arrays, subtract 1/4 of the [:2,:] elements from the elements themselves.\n",
    "    Then multiply with array b and return the result.\n",
    "    \n",
    "    Inputs:\n",
    "        a: input array, shape [MxN]\n",
    "        b: input array, shape [M]\n",
    "    \n",
    "    Returns:\n",
    "        resultant array\n",
    "    \"\"\"\n",
    "\n",
    "    aa = a[:2, :]\n",
    "    aa /= 4.\n",
    "    a[:2, :] -= aa\n",
    "\n",
    "    return a*b\n",
    "    \n",
    "\n",
    "a = np.ones((3, 2))\n",
    "b = np.ones(3)*3\n",
    "res = calculate(a, b)\n",
    "\n",
    "assert (res == np.array([[ 2.25,  2.25],[ 2.25,  2.25],[ 3., 3.]])).all()"
   ]
  },
  {
   "cell_type": "code",
   "execution_count": null,
   "metadata": {
    "collapsed": true
   },
   "outputs": [],
   "source": [
    "# 16. Calculate components of a vector\n",
    "# Read in file data/burl1h2010.txt. This file gives a bunch of data from a wind station. In particular, read in the wind direction, WDIR, and wind speed, WSPD. Then, write a function that calculates and returns the u and v components of this wind vector, which point along the x- and y-axes.\n",
    "# The function should have the following basic functionality:\n",
    "# Take in vector and return components.\n",
    "\n",
    "# Inputs:\n",
    "#     vdir: vector direction in degrees\n",
    "#     vspd: vector magnitude\n",
    "\n",
    "# Returns:\n",
    "#     u: x component of vector\n",
    "#     v: y component of vector"
   ]
  },
  {
   "cell_type": "code",
   "execution_count": null,
   "metadata": {
    "collapsed": true
   },
   "outputs": [],
   "source": [
    "# 17. (Grad) Write and use a class\n",
    "# Consider one of the data files located in python4geosciences/data/MCH/. Write a class, dataclass, to store some of the \n",
    "# information in the file. The class should:\n",
    "# be initialized with the name of the file (without file type suffix of .cnv2), and the temperature and salinity values \n",
    "# found in the file;\n",
    "# contain a method, salt_mean, which returns the mean of the salinity;\n",
    "# contain a method, temp_max, which returns the maximum value of the temperature values.\n",
    "# Notice that there are many data files in this directory. It would be a lot of work to read them all in by hand. \n",
    "# Instead, write a loop which loops through the file names, reads in the necessary data, calls dataclass to store the \n",
    "# data in a class instance, and adds it to a list of all of the class instances. At the end of your solution, you should \n",
    "# have a list of all of the class instances, one for each data file.\n",
    "# Hint: Check out the package glob for reading in file names with a wild card."
   ]
  },
  {
   "cell_type": "code",
   "execution_count": null,
   "metadata": {
    "collapsed": true
   },
   "outputs": [],
   "source": [
    "# 18. (Grad) Running mean\n",
    "# Write a function that computes averages using a sliding window over a vector; that is, it should take in a vector and for every \n",
    "# element in the vector, compute the average of that point with the N points on either side of the element. N should also be \n",
    "# an input parameter, and the function should return the original vector if N=0. The returned vector should be the same size \n",
    "# as the input vector.\n",
    "# Do not use the pandas package or the function convolve; instead, use a loop. Use the following API for your function:\n",
    "# Return the running average of a vector, with averaging window of size N.\n",
    "\n",
    "# Inputs:\n",
    "#     vec: Input vector\n",
    "#     N (int): Averaging window size, or number of elements to include in mean on either side of each element.\n",
    "\n",
    "# Outputs:\n",
    "#     out: Vector of running-averaged values; same size as vec"
   ]
  }
 ],
 "metadata": {
  "kernelspec": {
   "display_name": "Python 3",
   "language": "python",
   "name": "python3"
  },
  "language_info": {
   "codemirror_mode": {
    "name": "ipython",
    "version": 3
   },
   "file_extension": ".py",
   "mimetype": "text/x-python",
   "name": "python",
   "nbconvert_exporter": "python",
   "pygments_lexer": "ipython3",
   "version": "3.5.1"
  }
 },
 "nbformat": 4,
 "nbformat_minor": 0
}
