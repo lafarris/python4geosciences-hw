{
 "cells": [
  {
   "cell_type": "code",
   "execution_count": 1,
   "metadata": {
    "collapsed": true
   },
   "outputs": [],
   "source": [
    "# Homework 03\n",
    "# Due Tuesday, February 16th"
   ]
  },
  {
   "cell_type": "code",
   "execution_count": 2,
   "metadata": {
    "collapsed": false
   },
   "outputs": [
    {
     "data": {
      "text/plain": [
       "array([ 0.,  0.,  0.,  0.,  1.,  0.,  0.,  0.,  0.,  0.])"
      ]
     },
     "execution_count": 2,
     "metadata": {},
     "output_type": "execute_result"
    }
   ],
   "source": [
    "# 1. Vector manipulation\n",
    "# Create a vector of zeros of size 10 but have the fifth value be 1.\n",
    "\n",
    "import numpy as np\n",
    "a = np.zeros(10)\n",
    "a[4] = 1\n",
    "\n",
    "a"
   ]
  },
  {
   "cell_type": "code",
   "execution_count": 18,
   "metadata": {
    "collapsed": false
   },
   "outputs": [
    {
     "data": {
      "text/plain": [
       "(array([ 10.,  11.,  12.,  13.,  14.,  15.,  16.,  17.,  18.,  19.,  20.,\n",
       "         21.,  22.,  23.,  24.,  25.,  26.,  27.,  28.,  29.,  30.,  31.,\n",
       "         32.,  33.,  34.,  35.,  36.,  37.,  38.,  39.,  40.,  41.,  42.,\n",
       "         43.,  44.,  45.,  46.,  47.,  48.,  49.]),\n",
       " array([10, 11, 12, 13, 14, 15, 16, 17, 18, 19, 20, 21, 22, 23, 24, 25, 26,\n",
       "        27, 28, 29, 30, 31, 32, 33, 34, 35, 36, 37, 38, 39, 40, 41, 42, 43,\n",
       "        44, 45, 46, 47, 48, 49]))"
      ]
     },
     "execution_count": 18,
     "metadata": {},
     "output_type": "execute_result"
    }
   ],
   "source": [
    "# 2. Vector range¶\n",
    "# Create a vector with values ranging from 10 to 49, inclusive.\n",
    "\n",
    "b = np.linspace(10.0,49.0,40.0)\n",
    "\n",
    "bb = np.arange(10,50,1)\n",
    "\n",
    "b, bb"
   ]
  },
  {
   "cell_type": "code",
   "execution_count": 49,
   "metadata": {
    "collapsed": false
   },
   "outputs": [
    {
     "name": "stdout",
     "output_type": "stream",
     "text": [
      "[ 10.  11.  12.  13.  14.  15.  16.  17.  18.  19.  20.]\n",
      "[1 2 3 4 5 6 7 8]\n"
     ]
    },
    {
     "data": {
      "text/plain": [
       "(array([ 20.,  19.,  18.,  17.,  16.,  15.,  14.,  13.,  12.,  11.,  10.]),\n",
       " array([8, 7, 6, 5, 4, 3, 2, 1]))"
      ]
     },
     "execution_count": 49,
     "metadata": {},
     "output_type": "execute_result"
    }
   ],
   "source": [
    "# 3. Reverse a vector\n",
    "# Write a function, reverse(x) which reverses a vector, so that the first element becomes the last element. The API should be\n",
    "# return a 1D vector with the elements reversed\n",
    "\n",
    "# Input\n",
    "# -----\n",
    "#     x: 1D array\n",
    "\n",
    "# Output\n",
    "# ------\n",
    "#     res: 1D array, with the elements of `x` reversed\n",
    "\n",
    "# Include this (or an equivalent description) in the function's docstring.\n",
    "\n",
    "def reverse(x):      \n",
    "    'Input ---- x:1D array'\n",
    "    'Output ---- res: 1D array, with the elements of `x` reversed'\n",
    "    return x[::-1]\n",
    "\n",
    "x = np.linspace(10.0,20.0,11.0)\n",
    "y = np.array([1,2,3,4,5,6,7,8])\n",
    "\n",
    "print(x)\n",
    "print(y)\n",
    "\n",
    "reverse(x), reverse(y)"
   ]
  },
  {
   "cell_type": "code",
   "execution_count": 62,
   "metadata": {
    "collapsed": false
   },
   "outputs": [
    {
     "data": {
      "text/plain": [
       "(array([0, 1, 4], dtype=int64),)"
      ]
     },
     "execution_count": 62,
     "metadata": {},
     "output_type": "execute_result"
    }
   ],
   "source": [
    "# 4. Find indices of non-zero elements\n",
    "# Write a function find_nonzero(x) that finds the indices of non-zero elements, with an API like\n",
    "# return the indices of non-zero elements of an array.\n",
    "# Use the function to get out the non-zero elements from an array containing the elements [1,2,0,0,4,0].\n",
    "\n",
    "def find_nonzero(x):\n",
    "    '''return the indices of non-zero elements of an array.\n",
    "            Input:      x:  array\n",
    "            Output:     indices: array of integer indices'''\n",
    "    return np.where(x != 0)  # returning values of the array where x does not equal 0\n",
    "\n",
    "arr = np.array([1, 2, 0, 0, 4, 0])\n",
    "\n",
    "find_nonzero(arr) \n",
    "\n",
    "# why is dtype included in there???"
   ]
  },
  {
   "cell_type": "code",
   "execution_count": 66,
   "metadata": {
    "collapsed": false
   },
   "outputs": [
    {
     "data": {
      "text/plain": [
       "array([1, 2, 4])"
      ]
     },
     "execution_count": 66,
     "metadata": {},
     "output_type": "execute_result"
    }
   ],
   "source": [
    "# Use the function to get out the non-zero elements from an array containing the elements [1,2,0,0,4,0].\n",
    "ar = np.array([arr[0], arr[1], arr[4]])\n",
    "ar"
   ]
  },
  {
   "cell_type": "code",
   "execution_count": 25,
   "metadata": {
    "collapsed": false
   },
   "outputs": [
    {
     "data": {
      "text/plain": [
       "array([[[-0.39476634, -1.34070308, -0.70830248],\n",
       "        [ 1.91628257, -0.49862427, -0.330168  ],\n",
       "        [ 0.70377306,  0.24722097,  0.40639419]],\n",
       "\n",
       "       [[ 0.21158378, -1.32749904,  0.14563001],\n",
       "        [-1.99830534,  0.9539513 , -0.80167597],\n",
       "        [-0.20395343,  0.10290653, -1.42775928]],\n",
       "\n",
       "       [[-0.48576105,  0.48079854,  0.3413549 ],\n",
       "        [-0.18860345,  0.40625843, -0.86869269],\n",
       "        [-0.7707751 ,  0.40036126, -1.11928535]]])"
      ]
     },
     "execution_count": 25,
     "metadata": {},
     "output_type": "execute_result"
    }
   ],
   "source": [
    "# 5. Array with random values\n",
    "# Create a 3x3x3 array with normally distributed (μ=0,σ=1) random values.\n",
    "\n",
    "nn = np.random.normal(0, 1, (3,3,3))\n",
    "\n",
    "nn"
   ]
  },
  {
   "cell_type": "code",
   "execution_count": 31,
   "metadata": {
    "collapsed": false
   },
   "outputs": [
    {
     "name": "stdout",
     "output_type": "stream",
     "text": [
      "[[ 0.70314396  0.30464616  0.32985507  0.7451876   0.6517311   0.03171564\n",
      "   0.11791159  0.97237157  0.32831822  0.87775303]\n",
      " [ 0.97949089  0.05900012  0.65672037  0.0695323   0.26107575  0.24544717\n",
      "   0.2119995   0.16116121  0.15629209  0.56744127]\n",
      " [ 0.83386577  0.86172433  0.37876309  0.92788615  0.42294854  0.47408268\n",
      "   0.32660956  0.43478616  0.52158821  0.7661534 ]\n",
      " [ 0.99373541  0.27767679  0.78663835  0.93814906  0.21829142  0.05649356\n",
      "   0.3814473   0.04252853  0.46389395  0.2314206 ]\n",
      " [ 0.20824616  0.37996093  0.77363547  0.66400589  0.21390754  0.91346854\n",
      "   0.53014867  0.19437267  0.50949965  0.13961351]\n",
      " [ 0.2412728   0.4165327   0.0811405   0.3912988   0.63963851  0.97163445\n",
      "   0.30341893  0.96920401  0.4251258   0.08465333]\n",
      " [ 0.85999962  0.89221644  0.41723994  0.68247554  0.88648066  0.06739458\n",
      "   0.59418285  0.60408884  0.80651821  0.33483755]\n",
      " [ 0.80649436  0.1135646   0.29458946  0.04190382  0.96796918  0.93019242\n",
      "   0.27127436  0.48845547  0.3398693   0.58410957]\n",
      " [ 0.72325638  0.66844401  0.63335113  0.02528493  0.51254836  0.47464807\n",
      "   0.2180171   0.15631377  0.14084335  0.55224594]\n",
      " [ 0.08245876  0.01272095  0.85693338  0.10805777  0.34032815  0.68096025\n",
      "   0.23951604  0.02240858  0.54481853  0.39276869]]\n"
     ]
    },
    {
     "data": {
      "text/plain": [
       "(0.059000120858813787, 0.93814906389016683)"
      ]
     },
     "execution_count": 31,
     "metadata": {},
     "output_type": "execute_result"
    }
   ],
   "source": [
    "# 6. Operations on an array with random values\n",
    "# Create a 10x10 array with random values. \n",
    "c = np.random.rand(10, 10)\n",
    "\n",
    "# Find the minimum value of the 2nd row\n",
    "imin = c.min(axis=1)[1]\n",
    "\n",
    "# the maximum value of the 4th column\n",
    "imax = c.max(axis=0)[3]\n",
    "\n",
    "print(c)\n",
    "imin, imax"
   ]
  },
  {
   "cell_type": "code",
   "execution_count": 61,
   "metadata": {
    "collapsed": false
   },
   "outputs": [
    {
     "name": "stdout",
     "output_type": "stream",
     "text": [
      "10\n"
     ]
    },
    {
     "data": {
      "text/plain": [
       "array([ 0.09090909,  0.18181818,  0.27272727,  0.36363636,  0.45454545,\n",
       "        0.54545455,  0.63636364,  0.72727273,  0.81818182,  0.90909091])"
      ]
     },
     "execution_count": 61,
     "metadata": {},
     "output_type": "execute_result"
    }
   ],
   "source": [
    "# 7. Vector without end points\n",
    "# Create a vector of size 10 with values ranging from 0 to 1, both excluded.\n",
    "\n",
    "d = np.linspace(0,1,12)[1:-1]\n",
    "print(d.size)\n",
    "d"
   ]
  },
  {
   "cell_type": "code",
   "execution_count": 9,
   "metadata": {
    "collapsed": false
   },
   "outputs": [
    {
     "name": "stdout",
     "output_type": "stream",
     "text": [
      "[ 0.47964158  0.77984781  0.46292221  0.57818183  0.36078354  0.61320948\n",
      "  0.04623309  0.99418771  0.46175681  0.48144278]\n"
     ]
    },
    {
     "data": {
      "text/plain": [
       "array([ 0.04623309,  0.36078354,  0.46175681,  0.46292221,  0.47964158,\n",
       "        0.48144278,  0.57818183,  0.61320948,  0.77984781,  0.99418771])"
      ]
     },
     "execution_count": 9,
     "metadata": {},
     "output_type": "execute_result"
    }
   ],
   "source": [
    "# 8. Sorted random vector¶\n",
    "# Create a random vector of size 10, then sort it.\n",
    "\n",
    "e = np.random.random(10)\n",
    "print(e) # not sorted... random\n",
    "e.sort()\n",
    "e # sorted in order from least to greatest values"
   ]
  },
  {
   "cell_type": "code",
   "execution_count": 73,
   "metadata": {
    "collapsed": false
   },
   "outputs": [
    {
     "data": {
      "text/plain": [
       "(False, True, False)"
      ]
     },
     "execution_count": 73,
     "metadata": {},
     "output_type": "execute_result"
    }
   ],
   "source": [
    "# 9. Test for array equality\n",
    "# Write a function is_equal(A, B) that compare two arrays A and B and checks to see if they are equal.\n",
    "# return True if two arrays are the same shape and all the elements are equal.\n",
    "\n",
    "# The arrays count as equal if they are the same shape and all elements in the array are equal.\n",
    "\n",
    "def is_equal(x,y):\n",
    "    '''Inputs:\n",
    "            A, B:  array\n",
    "        Output:\n",
    "            Bool:  True if A and B have the same shape and identical elements.'''\n",
    "    return np.allclose(x,y) # returns True if two arrays are element-wise equal within a tolerance\n",
    "\n",
    "# two random arrays of the same dimension that won't be equal most of the time\n",
    "A = np.random.randint(0,2,5)\n",
    "B = np.random.randint(0,2,5)\n",
    "\n",
    "# two equivalent arrays of the same dimension that will always be equal\n",
    "A2 = np.array([[1., 2., 3.,], [4., 5., 6.]])\n",
    "B2 = np.array([[1., 2., 3.,], [4., 5., 6.]])\n",
    "\n",
    "# two differnet arrays of the same dimension that will never be equal\n",
    "A3 = np.array([[1., 2., 3.,], [4., 5., 6.]])\n",
    "B3 = np.array([[2., 4., 6.,], [8., 10., 12.]])\n",
    "\n",
    "is_equal(A,B), is_equal(A2,B2), is_equal(A3,B3)\n",
    "\n",
    "# ???"
   ]
  },
  {
   "cell_type": "code",
   "execution_count": 76,
   "metadata": {
    "collapsed": true
   },
   "outputs": [],
   "source": [
    "np.allclose?"
   ]
  },
  {
   "cell_type": "code",
   "execution_count": 77,
   "metadata": {
    "collapsed": false
   },
   "outputs": [
    {
     "name": "stdout",
     "output_type": "stream",
     "text": [
      "[[ 2.]\n",
      " [ 5.]]\n"
     ]
    },
    {
     "data": {
      "text/plain": [
       "array([[-1.,  0.,  1.],\n",
       "       [-1.,  0.,  1.]])"
      ]
     },
     "execution_count": 77,
     "metadata": {},
     "output_type": "execute_result"
    }
   ],
   "source": [
    "# 10. Subtract the row mean from rows of a matrix\n",
    "# Create a matrix. Then subtract the mean of each row of the matrix from the respective row. \n",
    "# Do this without using a loop (that is, using array operations).\n",
    "\n",
    "f = np.array([[1., 2., 3.,], [4., 5., 6.]]) # my created matrix\n",
    "g = f - f.mean(axis=1, keepdims=True) # the matrix with the mean of each row subtracted from the respective row.\n",
    "\n",
    "print(f.mean(axis=1, keepdims=True))\n",
    "\n",
    "g"
   ]
  },
  {
   "cell_type": "code",
   "execution_count": 78,
   "metadata": {
    "collapsed": false
   },
   "outputs": [
    {
     "data": {
      "text/plain": [
       "(array([[[ 0.62499053,  0.54267979,  0.72375823],\n",
       "         [ 0.00700739,  0.00641505,  0.00638919],\n",
       "         [ 0.35182269,  0.40046287,  0.26844321],\n",
       "         [ 0.54088323,  0.61791084,  0.0291968 ],\n",
       "         [ 0.18691348,  0.08204574,  0.14861259]],\n",
       " \n",
       "        [[ 0.36305962,  0.46564708,  0.59385707],\n",
       "         [ 0.06703443,  0.17531507,  0.02397445],\n",
       "         [ 0.3225547 ,  0.09876616,  0.25457282],\n",
       "         [ 0.01380067,  0.00757773,  0.06346256],\n",
       "         [ 0.08630194,  0.0233204 ,  0.07405421]],\n",
       " \n",
       "        [[ 0.04275576,  0.07993199,  0.08078658],\n",
       "         [ 0.01738489,  0.08109616,  0.15200544],\n",
       "         [ 0.82694691,  0.67310392,  0.29149455],\n",
       "         [ 0.2289436 ,  0.25164882,  0.6127883 ],\n",
       "         [ 0.4117536 ,  0.3189016 ,  0.44600696]],\n",
       " \n",
       "        [[ 0.2000628 ,  0.21587536,  0.44568431],\n",
       "         [ 0.38804723,  0.07864629,  0.07509698],\n",
       "         [ 0.88334201,  0.03537294,  0.20572941],\n",
       "         [ 0.08986915,  0.33576515,  0.21729773],\n",
       "         [ 0.17410762,  0.39927314,  0.36099067]],\n",
       " \n",
       "        [[ 0.21822454,  0.02049201,  0.16390318],\n",
       "         [ 0.14760516,  0.52093266,  0.47897217],\n",
       "         [ 0.29669792,  0.29486008,  0.25753987],\n",
       "         [ 0.13453308,  0.33803604,  0.4527901 ],\n",
       "         [ 0.63647814,  0.55010068,  0.23881541]]]),\n",
       " array([[[ 0.24130665,  0.00659922,  0.11465646,  0.09184506,  0.10503313],\n",
       "         [ 0.13064167,  0.03322526,  0.45690101,  0.01977017,  0.08477445],\n",
       "         [ 0.04927612,  0.12836694,  0.62077386,  0.14551983,  0.00376216],\n",
       "         [ 0.6172626 ,  0.0749157 ,  0.44740109,  0.34331596,  0.08935283],\n",
       "         [ 0.24926391,  0.43141168,  0.00746105,  0.47535356,  0.52260033]],\n",
       " \n",
       "        [[ 0.56973351,  0.0077835 ,  0.30852395,  0.39654966,  0.05698516],\n",
       "         [ 0.14960982,  0.14448623,  0.39675532,  0.05103109,  0.04128278],\n",
       "         [ 0.02222562,  0.08853312,  0.5465239 ,  0.18262555,  0.72629864],\n",
       "         [ 0.63071962,  0.33610261,  0.54175736,  0.14665283,  0.00494925],\n",
       "         [ 0.00195994,  0.63967213,  0.18693577,  0.46263465,  0.10732286]],\n",
       " \n",
       "        [[ 0.09158197,  0.00703407,  0.38406131,  0.231104  ,  0.16612275],\n",
       "         [ 0.44483745,  0.17559935,  0.30360048,  0.03961483,  0.06396812],\n",
       "         [ 0.01195926,  0.11620184,  0.11878079,  0.26386594,  0.18517319],\n",
       "         [ 0.65426257,  0.25531476,  0.89693852,  0.50556413,  0.04346214],\n",
       "         [ 0.01797585,  0.15680197,  0.25323416,  0.53784396,  0.75335373]]]))"
      ]
     },
     "execution_count": 78,
     "metadata": {},
     "output_type": "execute_result"
    }
   ],
   "source": [
    "# 11. Multiply arrays\n",
    "# Multiply an array of dimension (5,5,3) with an array with dimensions (5,5).\n",
    "# Then multiply an array of dimension (3,5,5) with an array of dimension (5,5).\n",
    "\n",
    "h = np.random.rand(5,5,3)  # a 3D array using random numbers\n",
    "i = np.random.rand(5,5)    # a 2D array using random numbers\n",
    "\n",
    "j = np.random.rand(3,5,5)  # a 3D array using random numbers\n",
    "\n",
    "sol1 = h * i[:,:,None]     # element-by-element multiplication letting the 2D array act like a 3D array.\n",
    "sol2 = j * i               # element-by-element multiplication letting the 2D array act like a 3D array.\n",
    "\n",
    "sol1, sol2"
   ]
  },
  {
   "cell_type": "code",
   "execution_count": 90,
   "metadata": {
    "collapsed": false
   },
   "outputs": [
    {
     "data": {
      "text/plain": [
       "numpy.ndarray"
      ]
     },
     "execution_count": 90,
     "metadata": {},
     "output_type": "execute_result"
    }
   ],
   "source": [
    "# 12. Creating a new array\n",
    "# Starting with an array\n",
    "Z = np.array([1,2,3,4,5,6,7,8,9,10,11,12,13,14])\n",
    "Z\n",
    "\n",
    "# Generate an array\n",
    "# R = [[1,2,3,4], [2,3,4,5], [3,4,5,6], ..., [11,12,13,14]].\n",
    "\n",
    "# try to call each element (n) of the array and add +1, +2, +3, to each one... and make an array... [[n, n+1, n+2, n+3], ...]\n",
    "k = np.array([]) \n",
    "for n in Z:\n",
    "    if n<12:\n",
    "        n = np.array([n,n+1,n+2,n+3])\n",
    "        k.append(n)\n",
    "    else:\n",
    "        print(k)\n",
    "\n",
    "type(k)\n"
   ]
  },
  {
   "cell_type": "code",
   "execution_count": 110,
   "metadata": {
    "collapsed": false
   },
   "outputs": [
    {
     "data": {
      "text/plain": [
       "array([[ 2.23606798,  1.10714872],\n",
       "       [ 5.83095189,  1.03037683],\n",
       "       [ 7.28010989,  1.29249667]])"
      ]
     },
     "execution_count": 110,
     "metadata": {},
     "output_type": "execute_result"
    }
   ],
   "source": [
    "# 13. Convert from Cartesian to polar coordinates¶\n",
    "# Write a function cart2polar(xy) which takes in an Nx2 matrix of x, y pairs representing Cartesian coordinates and return\n",
    "# the locations represented in polar coordinates in the same shape matrix. The API is\n",
    "# Return equivalent polar coordinates of specified cartesian points.\n",
    "\n",
    "xy = np.array([[1,2], [3,5], [2,7]])\n",
    "\n",
    "def cart2pol(x):\n",
    "    '''Inputs:\n",
    "            xy: array\n",
    "            Nx2 array of Cartesian coordinates, with columns x and y respectively.\n",
    "        Returns:\n",
    "            rp: array\n",
    "            Nx2 array of polar coordinates, with columns radius and angle respectively'''\n",
    "    \n",
    "    rho = np.sqrt(x[:,0]**2 + x[:,1]**2)\n",
    "    phi = np.arctan2(x[:,1], x[:,0]) \n",
    "    \n",
    "    return(np.transpose(np.array([rho, phi])))\n",
    "\n",
    "cart2pol(xy)"
   ]
  },
  {
   "cell_type": "code",
   "execution_count": 114,
   "metadata": {
    "collapsed": false
   },
   "outputs": [
    {
     "name": "stdout",
     "output_type": "stream",
     "text": [
      "Wall time: 0 ns\n"
     ]
    },
    {
     "data": {
      "text/plain": [
       "array([[[[  0.00000000e+00,   1.81004492e-01],\n",
       "         [  4.73546742e-01,   1.02206524e+00],\n",
       "         [  3.10584584e-01,   4.68068097e+00],\n",
       "         ..., \n",
       "         [  1.72275965e+01,   1.94082505e+01],\n",
       "         [  2.45372305e+01,   1.93192833e+01],\n",
       "         [  1.07161100e+01,   1.37695612e+01]],\n",
       "\n",
       "        [[  1.89893757e+01,   1.47100434e-01],\n",
       "         [  5.11033414e+00,   2.09979171e+01],\n",
       "         [  1.88388417e+01,   1.74394050e+01],\n",
       "         ..., \n",
       "         [  1.32561116e+01,   6.80916900e+00],\n",
       "         [  8.46412530e+00,   5.78957289e+01],\n",
       "         [  6.06290748e+01,   1.96743973e+01]],\n",
       "\n",
       "        [[  4.23185159e+01,   1.67530864e+01],\n",
       "         [  1.03402378e+01,   2.31407322e+01],\n",
       "         [  1.75171718e+01,   3.94319373e+01],\n",
       "         ..., \n",
       "         [  6.65228549e+01,   1.09180050e+01],\n",
       "         [  6.13701608e+01,   2.96898600e+01],\n",
       "         [  3.76634341e+01,   5.30825370e+01]],\n",
       "\n",
       "        ..., \n",
       "        [[  1.11456481e+02,   3.65762116e+01],\n",
       "         [  4.65688394e+01,   1.32187824e+02],\n",
       "         [  5.04085752e+01,   1.01928474e+02],\n",
       "         ..., \n",
       "         [  5.84259711e+01,   4.18245090e+01],\n",
       "         [  7.37444457e+01,   1.61024481e+02],\n",
       "         [  1.83107710e+02,   9.60984987e+01]],\n",
       "\n",
       "        [[  9.12152254e+00,   1.29350780e+02],\n",
       "         [  1.64930484e+02,   4.81133785e+01],\n",
       "         [  1.74992602e+02,   7.11244067e+01],\n",
       "         ..., \n",
       "         [  1.96440334e+02,   5.75431075e+00],\n",
       "         [  3.58457935e+01,   1.65636065e+02],\n",
       "         [  4.03966413e+01,   2.01794753e+01]],\n",
       "\n",
       "        [[  2.01097495e+02,   6.47391755e+01],\n",
       "         [  5.21117811e+01,   1.86615907e+02],\n",
       "         [  3.35115082e+01,   3.93749770e+01],\n",
       "         ..., \n",
       "         [  1.06360018e+02,   2.44018729e+02],\n",
       "         [  5.58622920e+01,   2.31984428e+02],\n",
       "         [  1.34140152e+02,   2.42795659e+02]]],\n",
       "\n",
       "\n",
       "       [[[  1.65740360e+01,   1.14925391e+02],\n",
       "         [  1.91220546e+01,   3.46294245e+01],\n",
       "         [  7.67825336e+01,   2.28563937e+02],\n",
       "         ..., \n",
       "         [  2.42605231e+02,   6.65283574e+01],\n",
       "         [  2.80447118e+02,   1.30576320e+01],\n",
       "         [  2.73612636e+02,   2.72556473e+02]],\n",
       "\n",
       "        [[  1.98508675e+02,   9.43727449e+01],\n",
       "         [  1.15142023e+02,   1.02994856e+02],\n",
       "         [  9.62706302e+01,   1.91977613e+02],\n",
       "         ..., \n",
       "         [  1.10670218e+01,   1.00579738e+02],\n",
       "         [  6.52484790e+00,   1.57921281e+02],\n",
       "         [  1.67063220e+02,   1.26075529e+01]],\n",
       "\n",
       "        [[  1.06490946e+02,   1.63046590e+02],\n",
       "         [  5.69936765e+01,   4.55863781e+01],\n",
       "         [  2.31391849e+02,   9.39167526e+01],\n",
       "         ..., \n",
       "         [  5.80668804e+01,   2.74868030e+02],\n",
       "         [  3.41312141e+02,   8.33802451e+01],\n",
       "         [  3.21319799e+02,   1.33853540e+02]],\n",
       "\n",
       "        ..., \n",
       "        [[  3.74717981e+02,   1.69998847e+02],\n",
       "         [  1.87363076e+02,   2.06280889e+02],\n",
       "         [  2.98798134e+02,   3.68982587e+02],\n",
       "         ..., \n",
       "         [  1.17215650e+02,   1.40727344e+02],\n",
       "         [  2.81554540e+02,   6.12651142e+01],\n",
       "         [  2.75921295e+02,   9.46905118e+01]],\n",
       "\n",
       "        [[  8.17293832e+00,   2.26803797e+02],\n",
       "         [  2.17102917e+02,   3.90652493e+02],\n",
       "         [  1.41119700e+01,   2.05663861e+02],\n",
       "         ..., \n",
       "         [  3.97163732e+02,   9.31654317e-01],\n",
       "         [  1.70979739e+02,   4.05725021e+02],\n",
       "         [  3.17888176e+02,   1.13306642e+02]],\n",
       "\n",
       "        [[  1.51601169e+02,   4.77045729e+02],\n",
       "         [  3.94834515e+02,   1.10521547e+02],\n",
       "         [  2.07866606e+02,   3.03172282e+01],\n",
       "         ..., \n",
       "         [  1.50809839e+02,   1.29630410e+02],\n",
       "         [  2.26561691e+02,   3.35174342e+02],\n",
       "         [  1.79652931e+02,   5.73367153e+01]]],\n",
       "\n",
       "\n",
       "       [[[  4.61636169e+02,   4.73709830e+02],\n",
       "         [  9.88083020e+01,   3.06362048e+02],\n",
       "         [  2.54705153e+02,   3.91515726e+02],\n",
       "         ..., \n",
       "         [  2.93880381e+02,   3.18939589e+02],\n",
       "         [  2.22973817e+01,   4.90241595e+02],\n",
       "         [  2.02300803e+02,   3.55572182e+02]],\n",
       "\n",
       "        [[  5.54352885e+01,   4.48858365e+02],\n",
       "         [  3.33287270e+02,   3.41647234e+02],\n",
       "         [  4.63380724e+02,   1.08291516e+02],\n",
       "         ..., \n",
       "         [  8.70238550e+01,   1.03126767e+02],\n",
       "         [  2.03679429e+02,   1.02224670e+02],\n",
       "         [  6.66338240e+01,   2.90344147e+01]],\n",
       "\n",
       "        [[  2.81687194e+02,   3.01357487e+02],\n",
       "         [  3.32845595e+02,   2.84479997e+02],\n",
       "         [  2.00937952e+02,   1.64678410e+02],\n",
       "         ..., \n",
       "         [  1.22085945e+02,   3.98511787e+01],\n",
       "         [  3.62822818e+02,   5.89633309e+02],\n",
       "         [  1.00884688e+02,   4.01705223e+02]],\n",
       "\n",
       "        ..., \n",
       "        [[  2.59358840e+02,   3.84271288e+02],\n",
       "         [  6.55427972e+00,   5.08481055e+02],\n",
       "         [  3.10379922e+02,   4.15094930e+02],\n",
       "         ..., \n",
       "         [  1.55640049e+02,   3.80757784e+02],\n",
       "         [  1.74530771e+02,   5.16162479e+01],\n",
       "         [  3.84016119e+01,   5.96701331e+02]],\n",
       "\n",
       "        [[  4.60799034e+02,   6.39642404e+02],\n",
       "         [  4.36426819e+02,   5.96340194e+02],\n",
       "         [  4.63056986e+02,   3.25872117e+02],\n",
       "         ..., \n",
       "         [  4.33556742e+02,   6.75026433e+02],\n",
       "         [  6.46412025e+02,   5.26750741e+02],\n",
       "         [  3.75608758e+02,   5.49044818e+02]],\n",
       "\n",
       "        [[  5.07051271e+02,   4.26866686e+02],\n",
       "         [  5.28730062e+02,   2.06161057e+02],\n",
       "         [  5.06378062e+02,   6.78779603e+02],\n",
       "         ..., \n",
       "         [  5.03570256e+02,   2.31595488e+02],\n",
       "         [  2.63790907e+02,   6.17876859e+02],\n",
       "         [  2.03116790e+02,   4.93403558e+02]]],\n",
       "\n",
       "\n",
       "       [[[  2.24332054e+02,   6.92303982e+02],\n",
       "         [  1.22645246e+02,   2.91686836e+02],\n",
       "         [  5.82993374e+02,   2.91445547e+02],\n",
       "         ..., \n",
       "         [  7.14798522e+02,   6.98683356e+02],\n",
       "         [  1.46893736e+02,   7.43116952e+02],\n",
       "         [  5.58264872e+02,   1.83063433e+02]],\n",
       "\n",
       "        [[  1.76961983e+02,   3.57758214e+02],\n",
       "         [  5.66904408e+02,   5.75639876e+02],\n",
       "         [  4.77665609e+02,   2.34383396e+02],\n",
       "         ..., \n",
       "         [  5.85762197e+02,   7.33709401e+02],\n",
       "         [  1.92117449e+02,   4.53739500e+02],\n",
       "         [  5.08445893e+01,   5.22507425e+02]],\n",
       "\n",
       "        [[  8.07080476e+02,   4.39247887e+01],\n",
       "         [  5.87896895e+01,   2.91422498e+02],\n",
       "         [  7.99091909e+02,   9.20909517e+01],\n",
       "         ..., \n",
       "         [  7.64901174e+02,   2.26928142e+02],\n",
       "         [  6.61743050e+02,   3.72232811e+02],\n",
       "         [  7.97208706e+02,   8.39505432e+02]],\n",
       "\n",
       "        ..., \n",
       "        [[  1.37234964e+02,   6.68864151e+02],\n",
       "         [  3.49339234e+02,   4.79566639e+02],\n",
       "         [  9.12738604e+02,   8.33274543e+02],\n",
       "         ..., \n",
       "         [  2.85453167e+02,   7.86438366e+02],\n",
       "         [  4.11033307e+02,   1.95045419e+02],\n",
       "         [  3.29001082e+02,   2.51094753e+02]],\n",
       "\n",
       "        [[  1.17299081e+02,   9.22607814e+02],\n",
       "         [  2.81484531e+02,   6.18981660e+02],\n",
       "         [  9.42856379e+02,   1.42020433e+00],\n",
       "         ..., \n",
       "         [  4.33245926e+02,   3.52560510e+02],\n",
       "         [  7.36020777e+02,   4.97277079e+02],\n",
       "         [  7.08151382e+02,   7.33083801e+02]],\n",
       "\n",
       "        [[  4.74933100e+02,   8.87981592e+02],\n",
       "         [  8.25499678e+02,   9.72330392e+02],\n",
       "         [  6.44339402e+02,   6.78426365e+01],\n",
       "         ..., \n",
       "         [  6.60478502e+02,   4.24950606e+02],\n",
       "         [  1.86425649e+02,   3.73253295e+02],\n",
       "         [  4.03808290e+02,   3.25257090e+02]]]])"
      ]
     },
     "execution_count": 114,
     "metadata": {},
     "output_type": "execute_result"
    }
   ],
   "source": [
    "# 14. Compute and time for loops and array operations.\n",
    "# Calculate the time it takes to do what we did in class\n",
    "a = np.arange(1024.0).reshape(4, 8, 16, 2)   # a 4D array using sequential numbers\n",
    "b = np.random.rand(4, 8, 16, 2)              # a 4D array using random numbers\n",
    "sol = a * b  # element-by-element multiplication. This operation is about as fast as it can be on your computer.\n",
    "\n",
    "# %time sol\n",
    "\n",
    "# and the time required for doing the same operation with a series of 4 for loops, one for each dimension of the arrays. \n",
    "# Compare the times by calculating a ratio.\n",
    "\n",
    "# n, k, j, i\n",
    "\n",
    "sol2 = np.empty_like(sol)\n",
    "for n in range(a.shape[0]):\n",
    "    for k in range(a.shape[1]):\n",
    "        for j in range(a.shape[2]):\n",
    "            for i in range(a.shape[3]):"
   ]
  },
  {
   "cell_type": "code",
   "execution_count": 113,
   "metadata": {
    "collapsed": true
   },
   "outputs": [],
   "source": [
    "np.empty_like?"
   ]
  },
  {
   "cell_type": "code",
   "execution_count": 16,
   "metadata": {
    "collapsed": false
   },
   "outputs": [
    {
     "ename": "AssertionError",
     "evalue": "",
     "output_type": "error",
     "traceback": [
      "\u001b[1;31m---------------------------------------------------------------------------\u001b[0m",
      "\u001b[1;31mAssertionError\u001b[0m                            Traceback (most recent call last)",
      "\u001b[1;32m<ipython-input-16-cacfdfe2d607>\u001b[0m in \u001b[0;36m<module>\u001b[1;34m()\u001b[0m\n\u001b[0;32m     28\u001b[0m \u001b[0mres\u001b[0m \u001b[1;33m=\u001b[0m \u001b[0mcalculate\u001b[0m\u001b[1;33m(\u001b[0m\u001b[0ma\u001b[0m\u001b[1;33m,\u001b[0m \u001b[0mb\u001b[0m\u001b[1;33m[\u001b[0m\u001b[1;33m:\u001b[0m\u001b[1;33m,\u001b[0m \u001b[1;32mNone\u001b[0m\u001b[1;33m]\u001b[0m\u001b[1;33m)\u001b[0m \u001b[1;31m# I made the b array 2D so that I could multiply it with the 2D array a.\u001b[0m\u001b[1;33m\u001b[0m\u001b[0m\n\u001b[0;32m     29\u001b[0m \u001b[1;33m\u001b[0m\u001b[0m\n\u001b[1;32m---> 30\u001b[1;33m \u001b[1;32massert\u001b[0m \u001b[1;33m(\u001b[0m\u001b[0mres\u001b[0m \u001b[1;33m==\u001b[0m \u001b[0mnp\u001b[0m\u001b[1;33m.\u001b[0m\u001b[0marray\u001b[0m\u001b[1;33m(\u001b[0m\u001b[1;33m[\u001b[0m\u001b[1;33m[\u001b[0m \u001b[1;36m2.25\u001b[0m\u001b[1;33m,\u001b[0m  \u001b[1;36m2.25\u001b[0m\u001b[1;33m]\u001b[0m\u001b[1;33m,\u001b[0m\u001b[1;33m[\u001b[0m \u001b[1;36m2.25\u001b[0m\u001b[1;33m,\u001b[0m  \u001b[1;36m2.25\u001b[0m\u001b[1;33m]\u001b[0m\u001b[1;33m,\u001b[0m\u001b[1;33m[\u001b[0m \u001b[1;36m3.\u001b[0m\u001b[1;33m,\u001b[0m \u001b[1;36m3.\u001b[0m\u001b[1;33m]\u001b[0m\u001b[1;33m]\u001b[0m\u001b[1;33m)\u001b[0m\u001b[1;33m)\u001b[0m\u001b[1;33m.\u001b[0m\u001b[0mall\u001b[0m\u001b[1;33m(\u001b[0m\u001b[1;33m)\u001b[0m\u001b[1;33m\u001b[0m\u001b[0m\n\u001b[0m\u001b[0;32m     31\u001b[0m \u001b[1;33m\u001b[0m\u001b[0m\n\u001b[0;32m     32\u001b[0m \u001b[1;31m# what does this asserstion error even mean?? What 'makes it true'???\u001b[0m\u001b[1;33m\u001b[0m\u001b[1;33m\u001b[0m\u001b[0m\n",
      "\u001b[1;31mAssertionError\u001b[0m: "
     ]
    }
   ],
   "source": [
    "# 15. Fix the code\n",
    "# This code needs to be fixed so that it can run properly and pass the assertion test at the bottom. \n",
    "# Write out what you changed to make it work and why it needed to be changed.\n",
    "\n",
    "def calculate(a, b):\n",
    "    \"\"\"Do some calculations\n",
    "    \n",
    "    Take in two arrays, subtract 1/4 of the [:2,:] elements from the elements themselves.\n",
    "    Then multiply with array b and return the result.\n",
    "    \n",
    "    Inputs:\n",
    "        a: input array, shape [MxN]\n",
    "        b: input array, shape [M]\n",
    "    \n",
    "    Returns:\n",
    "        resultant array\n",
    "    \"\"\"\n",
    "\n",
    "    aa = a[:2, :]\n",
    "    aa /= 4.\n",
    "    a[:2, :] -= aa\n",
    "\n",
    "    return a*b\n",
    "    \n",
    "\n",
    "a = np.ones((3, 2)) \n",
    "b = np.ones(3)*3\n",
    "res = calculate(a, b[:, None]) # I made the b array 2D so that I could multiply it with the 2D array a.\n",
    "\n",
    "assert (res == np.array([[ 2.25,  2.25],[ 2.25,  2.25],[ 3., 3.]])).all()\n",
    "\n",
    "# what does this asserstion error even mean?? What 'makes it true'???"
   ]
  },
  {
   "cell_type": "code",
   "execution_count": null,
   "metadata": {
    "collapsed": false
   },
   "outputs": [],
   "source": [
    "b"
   ]
  },
  {
   "cell_type": "code",
   "execution_count": 109,
   "metadata": {
    "collapsed": false
   },
   "outputs": [
    {
     "data": {
      "text/plain": [
       "([array([ -2.08397511,  -1.96070053,  -2.12119911, ...,  -9.56084447,\n",
       "         -10.50707636,  -8.83345912])],\n",
       " [array([ 2.1580194 ,  3.01921404,  2.52794666, ...,  6.208885  ,\n",
       "          5.5867116 ,  5.1       ])])"
      ]
     },
     "execution_count": 109,
     "metadata": {},
     "output_type": "execute_result"
    }
   ],
   "source": [
    "# 16. Calculate components of a vector\n",
    "# Read in file data/burl1h2010.txt. This file gives a bunch of data from a wind station. In particular, read in the \n",
    "# wind direction, WDIR, and wind speed, WSPD. Then, write a function that calculates and returns the u and v components of this \n",
    "# wind vector, which point along the x- and y-axes.\n",
    "# The function should have the following basic functionality:\n",
    "# Take in vector and return components.\n",
    "\n",
    "import math\n",
    "data = np.loadtxt('burl1h2010.txt')\n",
    "\n",
    "vdir = data[:,5]\n",
    "vspd = data[:,6]\n",
    "\n",
    "def wind_vec(vdir, vspd):\n",
    "    '''Inputs:\n",
    "        vdir: vector direction in degrees\n",
    "        vspd: vector magnitude\n",
    "\n",
    "    Returns:\n",
    "        u: x component of vector\n",
    "        v: y component of vector'''\n",
    "\n",
    "    u = vspd*np.cos(np.radians(vdir))\n",
    "    v = vspd*np.sin(np.radians(vdir))\n",
    "    return([u],[v])\n",
    "\n",
    "wind_vec(vdir, vspd)"
   ]
  },
  {
   "cell_type": "code",
   "execution_count": 94,
   "metadata": {
    "collapsed": true
   },
   "outputs": [],
   "source": [
    "np.array"
   ]
  },
  {
   "cell_type": "code",
   "execution_count": null,
   "metadata": {
    "collapsed": true
   },
   "outputs": [],
   "source": [
    "# 17. (Grad) Write and use a class\n",
    "# Consider one of the data files located in python4geosciences/data/MCH/. Write a class, dataclass, to store some of the \n",
    "# information in the file. The class should:\n",
    "# be initialized with the name of the file (without file type suffix of .cnv2), and the temperature and salinity values \n",
    "# found in the file;\n",
    "# contain a method, salt_mean, which returns the mean of the salinity;\n",
    "# contain a method, temp_max, which returns the maximum value of the temperature values.\n",
    "# Notice that there are many data files in this directory. It would be a lot of work to read them all in by hand. \n",
    "# Instead, write a loop which loops through the file names, reads in the necessary data, calls dataclass to store the \n",
    "# data in a class instance, and adds it to a list of all of the class instances. At the end of your solution, you should \n",
    "# have a list of all of the class instances, one for each data file.\n",
    "# Hint: Check out the package glob for reading in file names with a wild card."
   ]
  },
  {
   "cell_type": "code",
   "execution_count": null,
   "metadata": {
    "collapsed": true
   },
   "outputs": [],
   "source": [
    "# 18. (Grad) Running mean\n",
    "# Write a function that computes averages using a sliding window over a vector; that is, it should take in a vector and for every \n",
    "# element in the vector, compute the average of that point with the N points on either side of the element. N should also be \n",
    "# an input parameter, and the function should return the original vector if N=0. The returned vector should be the same size \n",
    "# as the input vector.\n",
    "# Do not use the pandas package or the function convolve; instead, use a loop. Use the following API for your function:\n",
    "# Return the running average of a vector, with averaging window of size N.\n",
    "\n",
    "# Inputs:\n",
    "#     vec: Input vector\n",
    "#     N (int): Averaging window size, or number of elements to include in mean on either side of each element.\n",
    "\n",
    "# Outputs:\n",
    "#     out: Vector of running-averaged values; same size as vec"
   ]
  }
 ],
 "metadata": {
  "kernelspec": {
   "display_name": "Python 3",
   "language": "python",
   "name": "python3"
  },
  "language_info": {
   "codemirror_mode": {
    "name": "ipython",
    "version": 3
   },
   "file_extension": ".py",
   "mimetype": "text/x-python",
   "name": "python",
   "nbconvert_exporter": "python",
   "pygments_lexer": "ipython3",
   "version": "3.5.1"
  }
 },
 "nbformat": 4,
 "nbformat_minor": 0
}
