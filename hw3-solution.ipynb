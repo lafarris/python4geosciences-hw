{
 "cells": [
  {
   "cell_type": "code",
   "execution_count": 1,
   "metadata": {
    "collapsed": true
   },
   "outputs": [],
   "source": [
    "# Homework 03\n",
    "# Due Tuesday, February 16th"
   ]
  },
  {
   "cell_type": "code",
   "execution_count": 2,
   "metadata": {
    "collapsed": false
   },
   "outputs": [
    {
     "data": {
      "text/plain": [
       "array([ 0.,  0.,  0.,  0.,  1.,  0.,  0.,  0.,  0.,  0.])"
      ]
     },
     "execution_count": 2,
     "metadata": {},
     "output_type": "execute_result"
    }
   ],
   "source": [
    "# 1. Vector manipulation\n",
    "# Create a vector of zeros of size 10 but have the fifth value be 1.\n",
    "\n",
    "import numpy as np\n",
    "a = np.zeros(10)\n",
    "a[4] = 1\n",
    "\n",
    "a"
   ]
  },
  {
   "cell_type": "code",
   "execution_count": 3,
   "metadata": {
    "collapsed": false
   },
   "outputs": [
    {
     "data": {
      "text/plain": [
       "(array([ 10.,  11.,  12.,  13.,  14.,  15.,  16.,  17.,  18.,  19.,  20.,\n",
       "         21.,  22.,  23.,  24.,  25.,  26.,  27.,  28.,  29.,  30.,  31.,\n",
       "         32.,  33.,  34.,  35.,  36.,  37.,  38.,  39.,  40.,  41.,  42.,\n",
       "         43.,  44.,  45.,  46.,  47.,  48.,  49.]),\n",
       " array([10, 11, 12, 13, 14, 15, 16, 17, 18, 19, 20, 21, 22, 23, 24, 25, 26,\n",
       "        27, 28, 29, 30, 31, 32, 33, 34, 35, 36, 37, 38, 39, 40, 41, 42, 43,\n",
       "        44, 45, 46, 47, 48, 49]))"
      ]
     },
     "execution_count": 3,
     "metadata": {},
     "output_type": "execute_result"
    }
   ],
   "source": [
    "# 2. Vector range¶\n",
    "# Create a vector with values ranging from 10 to 49, inclusive.\n",
    "\n",
    "b = np.linspace(10.0,49.0,40.0)\n",
    "\n",
    "bb = np.arange(10,50,1)\n",
    "\n",
    "b, bb"
   ]
  },
  {
   "cell_type": "code",
   "execution_count": 4,
   "metadata": {
    "collapsed": false
   },
   "outputs": [
    {
     "name": "stdout",
     "output_type": "stream",
     "text": [
      "[ 10.  11.  12.  13.  14.  15.  16.  17.  18.  19.  20.]\n",
      "[1 2 3 4 5 6 7 8]\n"
     ]
    },
    {
     "data": {
      "text/plain": [
       "(array([ 20.,  19.,  18.,  17.,  16.,  15.,  14.,  13.,  12.,  11.,  10.]),\n",
       " array([8, 7, 6, 5, 4, 3, 2, 1]))"
      ]
     },
     "execution_count": 4,
     "metadata": {},
     "output_type": "execute_result"
    }
   ],
   "source": [
    "# 3. Reverse a vector\n",
    "# Write a function, reverse(x) which reverses a vector, so that the first element becomes the last element. The API should be\n",
    "# return a 1D vector with the elements reversed\n",
    "\n",
    "# Input\n",
    "# -----\n",
    "#     x: 1D array\n",
    "\n",
    "# Output\n",
    "# ------\n",
    "#     res: 1D array, with the elements of `x` reversed\n",
    "\n",
    "# Include this (or an equivalent description) in the function's docstring.\n",
    "\n",
    "def reverse(x):      \n",
    "    'Input ---- x:1D array'\n",
    "    'Output ---- res: 1D array, with the elements of `x` reversed'\n",
    "    return x[::-1]\n",
    "\n",
    "x = np.linspace(10.0,20.0,11.0)\n",
    "y = np.array([1,2,3,4,5,6,7,8])\n",
    "\n",
    "print(x)\n",
    "print(y)\n",
    "\n",
    "reverse(x), reverse(y)"
   ]
  },
  {
   "cell_type": "code",
   "execution_count": 43,
   "metadata": {
    "collapsed": false
   },
   "outputs": [
    {
     "name": "stdout",
     "output_type": "stream",
     "text": [
      "these are the indices: (array([0, 1, 4], dtype=int64),)\n",
      "these are the non-zero elements: [1 2 4]\n"
     ]
    }
   ],
   "source": [
    "# 4. Find indices of non-zero elements\n",
    "# Write a function find_nonzero(x) that finds the indices of non-zero elements, with an API like\n",
    "# return the indices of non-zero elements of an array.\n",
    "# Use the function to get out the non-zero elements from an array containing the elements [1,2,0,0,4,0].\n",
    "\n",
    "def find_nonzero(x):\n",
    "    '''return the indices of non-zero elements of an array.\n",
    "            Input:      x:  array\n",
    "            Output:     indices: array of integer indices'''\n",
    "    return np.where(x != 0)  # returning values of the array where x does not equal 0\n",
    "\n",
    "arr = np.array([1, 2, 0, 0, 4, 0])\n",
    "\n",
    "non = find_nonzero(arr)\n",
    "\n",
    "print('these are the indices:', non)\n",
    "print('these are the non-zero elements:', arr[non])"
   ]
  },
  {
   "cell_type": "code",
   "execution_count": 7,
   "metadata": {
    "collapsed": false
   },
   "outputs": [
    {
     "data": {
      "text/plain": [
       "array([[[-0.29020353,  0.21744009, -2.00361697],\n",
       "        [-0.51872436, -0.95835992,  1.92227931],\n",
       "        [-0.0132468 , -1.13012776,  1.36159579]],\n",
       "\n",
       "       [[ 1.09876039, -0.72222184, -0.44121732],\n",
       "        [ 0.09609831,  0.66534186, -2.13031299],\n",
       "        [-0.22169678,  0.15123558, -0.01774637]],\n",
       "\n",
       "       [[ 0.04482539, -0.7437662 ,  0.82238108],\n",
       "        [ 0.81314077,  0.49338016,  0.08404918],\n",
       "        [-0.0517906 ,  0.7623311 ,  0.901295  ]]])"
      ]
     },
     "execution_count": 7,
     "metadata": {},
     "output_type": "execute_result"
    }
   ],
   "source": [
    "# 5. Array with random values\n",
    "# Create a 3x3x3 array with normally distributed (μ=0,σ=1) random values.\n",
    "\n",
    "nn = np.random.normal(0, 1, (3,3,3))\n",
    "\n",
    "nn"
   ]
  },
  {
   "cell_type": "code",
   "execution_count": 8,
   "metadata": {
    "collapsed": false
   },
   "outputs": [
    {
     "name": "stdout",
     "output_type": "stream",
     "text": [
      "[[ 0.00420477  0.81153916  0.15487921  0.86316838  0.05953709  0.96219232\n",
      "   0.75838817  0.73386825  0.37776778  0.04571325]\n",
      " [ 0.92988916  0.73385212  0.14145589  0.03896031  0.32777114  0.71896304\n",
      "   0.43299931  0.43816329  0.80684169  0.89926051]\n",
      " [ 0.95872634  0.39484496  0.03220221  0.76875269  0.90733078  0.38589219\n",
      "   0.28231451  0.40861774  0.33957126  0.47742426]\n",
      " [ 0.74839588  0.86092123  0.20696309  0.60242787  0.97113891  0.25844208\n",
      "   0.48096782  0.77144029  0.30672499  0.57999222]\n",
      " [ 0.65676995  0.21023239  0.75631406  0.5025224   0.53830581  0.48803992\n",
      "   0.27355269  0.11162118  0.26150382  0.78250801]\n",
      " [ 0.99464322  0.61725218  0.54499943  0.16988985  0.5515424   0.26832556\n",
      "   0.89289902  0.65333596  0.42676376  0.18781047]\n",
      " [ 0.05410524  0.05020553  0.79196241  0.94648811  0.59892659  0.62734351\n",
      "   0.78334708  0.21260416  0.20264974  0.23349411]\n",
      " [ 0.55381396  0.93742854  0.18763818  0.86867188  0.66955812  0.9293539\n",
      "   0.89369089  0.39741504  0.43614778  0.02642161]\n",
      " [ 0.4325187   0.07095717  0.56037986  0.94452149  0.17178784  0.41597064\n",
      "   0.98021782  0.33091077  0.89457707  0.79705498]\n",
      " [ 0.9363579   0.05809002  0.61879198  0.30012506  0.2422867   0.44806478\n",
      "   0.57568318  0.90415471  0.01470069  0.24937748]]\n"
     ]
    },
    {
     "data": {
      "text/plain": [
       "(0.038960312034001854, 0.94648811147361456)"
      ]
     },
     "execution_count": 8,
     "metadata": {},
     "output_type": "execute_result"
    }
   ],
   "source": [
    "# 6. Operations on an array with random values\n",
    "# Create a 10x10 array with random values. \n",
    "c = np.random.rand(10, 10)\n",
    "\n",
    "# Find the minimum value of the 2nd row\n",
    "imin = c.min(axis=1)[1]\n",
    "\n",
    "# the maximum value of the 4th column\n",
    "imax = c.max(axis=0)[3]\n",
    "\n",
    "print(c)\n",
    "imin, imax"
   ]
  },
  {
   "cell_type": "code",
   "execution_count": 9,
   "metadata": {
    "collapsed": false
   },
   "outputs": [
    {
     "name": "stdout",
     "output_type": "stream",
     "text": [
      "10\n"
     ]
    },
    {
     "data": {
      "text/plain": [
       "array([ 0.09090909,  0.18181818,  0.27272727,  0.36363636,  0.45454545,\n",
       "        0.54545455,  0.63636364,  0.72727273,  0.81818182,  0.90909091])"
      ]
     },
     "execution_count": 9,
     "metadata": {},
     "output_type": "execute_result"
    }
   ],
   "source": [
    "# 7. Vector without end points\n",
    "# Create a vector of size 10 with values ranging from 0 to 1, both excluded.\n",
    "\n",
    "d = np.linspace(0,1,12)[1:-1]\n",
    "print(d.size)\n",
    "d"
   ]
  },
  {
   "cell_type": "code",
   "execution_count": 10,
   "metadata": {
    "collapsed": false
   },
   "outputs": [
    {
     "name": "stdout",
     "output_type": "stream",
     "text": [
      "[ 0.48676664  0.1802671   0.18868543  0.38404788  0.85919342  0.35718212\n",
      "  0.38419092  0.96111683  0.05995731  0.16612707]\n"
     ]
    },
    {
     "data": {
      "text/plain": [
       "array([ 0.05995731,  0.16612707,  0.1802671 ,  0.18868543,  0.35718212,\n",
       "        0.38404788,  0.38419092,  0.48676664,  0.85919342,  0.96111683])"
      ]
     },
     "execution_count": 10,
     "metadata": {},
     "output_type": "execute_result"
    }
   ],
   "source": [
    "# 8. Sorted random vector¶\n",
    "# Create a random vector of size 10, then sort it.\n",
    "\n",
    "e = np.random.random(10)\n",
    "print(e) # not sorted... random\n",
    "e.sort()\n",
    "e # sorted in order from least to greatest values"
   ]
  },
  {
   "cell_type": "code",
   "execution_count": 99,
   "metadata": {
    "collapsed": false
   },
   "outputs": [
    {
     "data": {
      "text/plain": [
       "(False, True, False)"
      ]
     },
     "execution_count": 99,
     "metadata": {},
     "output_type": "execute_result"
    }
   ],
   "source": [
    "# 9. Test for array equality\n",
    "# Write a function is_equal(A, B) that compare two arrays A and B and checks to see if they are equal.\n",
    "# return True if two arrays are the same shape and all the elements are equal.\n",
    "\n",
    "# The arrays count as equal if they are the same shape and all elements in the array are equal.\n",
    "\n",
    "def is_equal(x,y):\n",
    "    '''Inputs:\n",
    "            A, B:  array\n",
    "        Output:\n",
    "            Bool:  True if A and B have the same shape and identical elements.'''\n",
    "    return np.allclose(x,y) # returns True if two arrays are element-wise equal within a tolerance\n",
    "\n",
    "# two random arrays of the same dimension that won't be equal most of the time\n",
    "A = np.random.randint(0,2,5)\n",
    "B = np.random.randint(0,2,5)\n",
    "\n",
    "# two equivalent arrays of the same dimension that will always be equal\n",
    "A2 = np.array([[1., 2., 3.,], [4., 5., 6.]])\n",
    "B2 = np.array([[1., 2., 3.,], [4., 5., 6.]])\n",
    "\n",
    "# two differnet arrays of the same dimension that will never be equal\n",
    "A3 = np.array([[1., 2., 3.,], [4., 5., 6.]])\n",
    "B3 = np.array([[2., 4., 6.,], [8., 10., 12.]])\n",
    "\n",
    "is_equal(A,B), is_equal(A2,B2), is_equal(A3,B3)\n"
   ]
  },
  {
   "cell_type": "code",
   "execution_count": 13,
   "metadata": {
    "collapsed": false
   },
   "outputs": [
    {
     "name": "stdout",
     "output_type": "stream",
     "text": [
      "[[ 2.]\n",
      " [ 5.]]\n"
     ]
    },
    {
     "data": {
      "text/plain": [
       "array([[-1.,  0.,  1.],\n",
       "       [-1.,  0.,  1.]])"
      ]
     },
     "execution_count": 13,
     "metadata": {},
     "output_type": "execute_result"
    }
   ],
   "source": [
    "# 10. Subtract the row mean from rows of a matrix\n",
    "# Create a matrix. Then subtract the mean of each row of the matrix from the respective row. \n",
    "# Do this without using a loop (that is, using array operations).\n",
    "\n",
    "f = np.array([[1., 2., 3.,], [4., 5., 6.]]) # my created matrix\n",
    "g = f - f.mean(axis=1, keepdims=True) # the matrix with the mean of each row subtracted from the respective row.\n",
    "\n",
    "print(f.mean(axis=1, keepdims=True))\n",
    "\n",
    "g"
   ]
  },
  {
   "cell_type": "code",
   "execution_count": 14,
   "metadata": {
    "collapsed": false
   },
   "outputs": [
    {
     "data": {
      "text/plain": [
       "(array([[[ 0.15638613,  0.56388092,  0.54210227],\n",
       "         [ 0.34154884,  0.49392148,  0.60079489],\n",
       "         [ 0.21795667,  0.04116795,  0.52398792],\n",
       "         [ 0.29132878,  0.23038873,  0.19120006],\n",
       "         [ 0.2394595 ,  0.253802  ,  0.24524452]],\n",
       " \n",
       "        [[ 0.32687678,  0.39958188,  0.58852744],\n",
       "         [ 0.12018028,  0.28336318,  0.10692098],\n",
       "         [ 0.5589084 ,  0.11689971,  0.01011951],\n",
       "         [ 0.21265561,  0.16556612,  0.15931233],\n",
       "         [ 0.06416214,  0.12170624,  0.24856832]],\n",
       " \n",
       "        [[ 0.35339265,  0.21065922,  0.92552715],\n",
       "         [ 0.59179041,  0.01879097,  0.12409004],\n",
       "         [ 0.04594357,  0.64894366,  0.16403984],\n",
       "         [ 0.12585444,  0.40685379,  0.07258407],\n",
       "         [ 0.02653562,  0.37123832,  0.21143474]],\n",
       " \n",
       "        [[ 0.57365237,  0.08474595,  0.18723554],\n",
       "         [ 0.04372997,  0.06677938,  0.15155691],\n",
       "         [ 0.07784672,  0.09387005,  0.22630008],\n",
       "         [ 0.21126782,  0.45029608,  0.5031111 ],\n",
       "         [ 0.1599375 ,  0.44415693,  0.11049604]],\n",
       " \n",
       "        [[ 0.93032106,  0.02154672,  0.93550507],\n",
       "         [ 0.12621017,  0.15832186,  0.02090972],\n",
       "         [ 0.34052062,  0.19781308,  0.06996522],\n",
       "         [ 0.02135232,  0.03748261,  0.07063294],\n",
       "         [ 0.94212473,  0.39716377,  0.64742072]]]),\n",
       " array([[[ 0.5056945 ,  0.28419438,  0.1223709 ,  0.73999295,  0.26305233],\n",
       "         [ 0.2067045 ,  0.33380981,  0.20315459,  0.12911514,  0.1700577 ],\n",
       "         [ 0.90769665,  0.82067904,  0.07540685,  0.31787658,  0.2920821 ],\n",
       "         [ 0.01461255,  0.55778141,  0.37091949,  0.11976363,  0.37929365],\n",
       "         [ 0.81197247,  0.15570807,  0.3375864 ,  0.07642795,  0.80139664]],\n",
       " \n",
       "        [[ 0.39811195,  0.29701069,  0.1031342 ,  0.15279908,  0.14255919],\n",
       "         [ 0.41541424,  0.21288483,  0.2974059 ,  0.02767034,  0.02700877],\n",
       "         [ 0.37077361,  0.0838467 ,  0.01982411,  0.16743404,  0.13857867],\n",
       "         [ 0.23739004,  0.5050225 ,  0.12028118,  0.41675981,  0.26037687],\n",
       "         [ 0.69565362,  0.09970095,  0.24433266,  0.09641588,  0.84428672]],\n",
       " \n",
       "        [[ 0.49671059,  0.03729652,  0.41175459,  0.73815585,  0.06271185],\n",
       "         [ 0.39940586,  0.2237916 ,  0.07664414,  0.02808841,  0.1274798 ],\n",
       "         [ 0.36197371,  0.12590141,  0.60807116,  0.42231155,  0.28637691],\n",
       "         [ 0.43295314,  0.03794877,  0.31674754,  0.11457884,  0.17599728],\n",
       "         [ 0.03433444,  0.07414198,  0.22673656,  0.04555258,  0.82958344]]]))"
      ]
     },
     "execution_count": 14,
     "metadata": {},
     "output_type": "execute_result"
    }
   ],
   "source": [
    "# 11. Multiply arrays\n",
    "# Multiply an array of dimension (5,5,3) with an array with dimensions (5,5).\n",
    "# Then multiply an array of dimension (3,5,5) with an array of dimension (5,5).\n",
    "\n",
    "h = np.random.rand(5,5,3)  # a 3D array using random numbers\n",
    "i = np.random.rand(5,5)    # a 2D array using random numbers\n",
    "\n",
    "j = np.random.rand(3,5,5)  # a 3D array using random numbers\n",
    "\n",
    "sol1 = h * i[:,:,None]     # element-by-element multiplication letting the 2D array act like a 3D array.\n",
    "sol2 = j * i               # element-by-element multiplication letting the 2D array act like a 3D array.\n",
    "\n",
    "sol1, sol2"
   ]
  },
  {
   "cell_type": "code",
   "execution_count": 51,
   "metadata": {
    "collapsed": false
   },
   "outputs": [
    {
     "name": "stdout",
     "output_type": "stream",
     "text": [
      "Z = [ 1  2  3  4  5  6  7  8  9 10 11 12 13 14]\n",
      "R = [[ 1  2  3  4]\n",
      " [ 2  3  4  5]\n",
      " [ 3  4  5  6]\n",
      " [ 4  5  6  7]\n",
      " [ 5  6  7  8]\n",
      " [ 6  7  8  9]\n",
      " [ 7  8  9 10]\n",
      " [ 8  9 10 11]\n",
      " [ 9 10 11 12]\n",
      " [10 11 12 13]\n",
      " [11 12 13 14]]\n"
     ]
    },
    {
     "data": {
      "text/plain": [
       "numpy.ndarray"
      ]
     },
     "execution_count": 51,
     "metadata": {},
     "output_type": "execute_result"
    }
   ],
   "source": [
    "# 12. Creating a new array\n",
    "# Starting with an array\n",
    "Z = np.array([1,2,3,4,5,6,7,8,9,10,11,12,13,14])\n",
    "print('Z =', Z)\n",
    "\n",
    "# Generate an array\n",
    "# R = [[1,2,3,4], [2,3,4,5], [3,4,5,6], ..., [11,12,13,14]].\n",
    "\n",
    "# try to call each element (n) of the array and add +1, +2, +3, to each one... and make an array... [[n, n+1, n+2, n+3], ...]\n",
    "\n",
    "k = [] \n",
    "for n in Z:\n",
    "    if n<12:\n",
    "        n = np.array([n,n+1,n+2,n+3])\n",
    "        k.append(n)\n",
    "        R = np.asarray(k)\n",
    "    elif n==12 or n==13:\n",
    "        continue\n",
    "    else:\n",
    "        print('R =', R)\n",
    "type(R)"
   ]
  },
  {
   "cell_type": "code",
   "execution_count": 16,
   "metadata": {
    "collapsed": false
   },
   "outputs": [
    {
     "data": {
      "text/plain": [
       "array([[ 2.23606798,  1.10714872],\n",
       "       [ 5.83095189,  1.03037683],\n",
       "       [ 7.28010989,  1.29249667]])"
      ]
     },
     "execution_count": 16,
     "metadata": {},
     "output_type": "execute_result"
    }
   ],
   "source": [
    "# 13. Convert from Cartesian to polar coordinates¶\n",
    "# Write a function cart2polar(xy) which takes in an Nx2 matrix of x, y pairs representing Cartesian coordinates and return\n",
    "# the locations represented in polar coordinates in the same shape matrix. The API is\n",
    "# Return equivalent polar coordinates of specified cartesian points.\n",
    "\n",
    "xy = np.array([[1,2], [3,5], [2,7]])\n",
    "\n",
    "def cart2pol(x):\n",
    "    '''Inputs:\n",
    "            xy: array\n",
    "            Nx2 array of Cartesian coordinates, with columns x and y respectively.\n",
    "        Returns:\n",
    "            rp: array\n",
    "            Nx2 array of polar coordinates, with columns radius and angle respectively'''\n",
    "    \n",
    "    rho = np.sqrt(x[:,0]**2 + x[:,1]**2)\n",
    "    phi = np.arctan2(x[:,1], x[:,0]) \n",
    "    \n",
    "    return(np.transpose(np.array([rho, phi])))\n",
    "\n",
    "cart2pol(xy)"
   ]
  },
  {
   "cell_type": "code",
   "execution_count": 97,
   "metadata": {
    "collapsed": false
   },
   "outputs": [
    {
     "name": "stdout",
     "output_type": "stream",
     "text": [
      "0.0030 seconds have passed.\n",
      "0.0030 seconds have passed.\n",
      "0.0\n",
      "0.0030002593994140625\n"
     ]
    }
   ],
   "source": [
    "# 14. Compute and time for loops and array operations.\n",
    "# Calculate the time it takes to do what we did in class\n",
    "import time\n",
    "\n",
    "a = np.arange(1024.0).reshape(4, 8, 16, 2)   # a 4D array using sequential numbers\n",
    "b = np.random.rand(4, 8, 16, 2)              # a 4D array using random numbers\n",
    "\n",
    "t_start1 = time.time()\n",
    "\n",
    "sol = a * b  # element-by-element multiplication. This operation is about as fast as it can be on your computer.\n",
    "\n",
    "t_stop1 = time.time()\n",
    "\n",
    "print('{:6.4f} seconds have passed.'.format(t_stop-t_start))\n",
    "\n",
    "# and the time required for doing the same operation with a series of 4 for loops, one for each dimension of the arrays. \n",
    "# Compare the times by calculating a ratio.\n",
    "\n",
    "t_start2 = time.time()\n",
    "\n",
    "sol2 = np.empty_like(sol)\n",
    "for n in range(a.shape[0]):\n",
    "    for k in range(a.shape[1]):\n",
    "        for j in range(a.shape[2]):\n",
    "            for i in range(a.shape[3]):\n",
    "                sol2[n, k, j, i] = a[n, k, j, i] * b[n, k, j, i]\n",
    "                \n",
    "t_stop2 = time.time()\n",
    "print('{:6.4f} seconds have passed.'.format(t_stop-t_start))\n",
    "\n",
    "np.allclose(sol, sol2) # checking to see if the two arrays are element-wise equal to some tolerance.\n",
    "\n",
    "tot1 = t_stop1 - t_start1\n",
    "tot2 = t_stop2 - t_start2\n",
    "\n",
    "print(tot1)\n",
    "print(tot2)"
   ]
  },
  {
   "cell_type": "code",
   "execution_count": 50,
   "metadata": {
    "collapsed": false
   },
   "outputs": [
    {
     "name": "stdout",
     "output_type": "stream",
     "text": [
      "[[ 2.25  2.25]\n",
      " [ 2.25  2.25]\n",
      " [ 3.    3.  ]]\n"
     ]
    }
   ],
   "source": [
    "# 15. Fix the code\n",
    "# This code needs to be fixed so that it can run properly and pass the assertion test at the bottom. \n",
    "# Write out what you changed to make it work and why it needed to be changed.\n",
    "\n",
    "def calculate(a, b):\n",
    "    \"\"\"Do some calculations\n",
    "    \n",
    "    Take in two arrays, subtract 1/4 of the [:2,:] elements from the elements themselves.\n",
    "    Then multiply with array b and return the result.\n",
    "    \n",
    "    Inputs:\n",
    "        a: input array, shape [MxN]\n",
    "        b: input array, shape [M]\n",
    "    \n",
    "    Returns:\n",
    "        resultant array\n",
    "    \"\"\"\n",
    "\n",
    "    aa = a[:2, :]/4    # added /4 in this line to divide aa by 4.\n",
    "    # aa /= 4.         # I took this out because it was not actually dividing aa by 4.\n",
    "    a[:2, :] -= aa\n",
    "\n",
    "    return a*b\n",
    "    \n",
    "\n",
    "a = np.ones((3, 2)) \n",
    "b = np.ones(3)*3\n",
    "res = calculate(a, b[:, None]) # I made the b array 2D so that I could multiply it with the 2D array a.\n",
    "\n",
    "assert (res == np.array([[ 2.25,  2.25],[ 2.25,  2.25],[ 3., 3.]])).all()\n",
    "\n",
    "print(res)"
   ]
  },
  {
   "cell_type": "code",
   "execution_count": 33,
   "metadata": {
    "collapsed": false
   },
   "outputs": [
    {
     "data": {
      "text/plain": [
       "([array([ -2.08397511,  -1.96070053,  -2.12119911, ...,  -9.56084447,\n",
       "         -10.50707636,  -8.83345912])],\n",
       " [array([ 2.1580194 ,  3.01921404,  2.52794666, ...,  6.208885  ,\n",
       "          5.5867116 ,  5.1       ])])"
      ]
     },
     "execution_count": 33,
     "metadata": {},
     "output_type": "execute_result"
    }
   ],
   "source": [
    "# 16. Calculate components of a vector\n",
    "# Read in file data/burl1h2010.txt. This file gives a bunch of data from a wind station. In particular, read in the \n",
    "# wind direction, WDIR, and wind speed, WSPD. Then, write a function that calculates and returns the u and v components of this \n",
    "# wind vector, which point along the x- and y-axes.\n",
    "# The function should have the following basic functionality:\n",
    "# Take in vector and return components.\n",
    "\n",
    "import math\n",
    "data = np.loadtxt('burl1h2010.txt')\n",
    "\n",
    "vdir = data[:,5]\n",
    "vspd = data[:,6]\n",
    "\n",
    "def wind_vec(vdir, vspd):\n",
    "    '''Inputs:\n",
    "        vdir: vector direction in degrees\n",
    "        vspd: vector magnitude\n",
    "\n",
    "    Returns:\n",
    "        u: x component of vector\n",
    "        v: y component of vector'''\n",
    "\n",
    "    u = vspd*np.cos(np.radians(vdir))\n",
    "    v = vspd*np.sin(np.radians(vdir))\n",
    "    return([u],[v])\n",
    "\n",
    "wind_vec(vdir, vspd)"
   ]
  },
  {
   "cell_type": "code",
   "execution_count": 87,
   "metadata": {
    "collapsed": false
   },
   "outputs": [
    {
     "name": "stdout",
     "output_type": "stream",
     "text": [
      "../python4geosciences/data/MCH\\m1001c.cnv2\n",
      "[ 24.4009  24.397   24.3957  24.4029  24.4197  24.4626  24.548   24.6361\n",
      "  24.6538  24.692   24.7626  24.8009  24.8066]\n",
      "[ 22.0411  22.0391  22.0399  22.0399  22.0498  22.0663  22.0935  22.1243\n",
      "  22.1312  22.1469  22.1756  22.1909  22.1937]\n"
     ]
    }
   ],
   "source": [
    "# 17. (Grad) Write and use a class\n",
    "# Consider one of the data files located in python4geosciences/data/MCH/. Write a class, dataclass, to store some of the \n",
    "# information in the file. The class should:\n",
    "# be initialized with the name of the file (without file type suffix of .cnv2), and the temperature and salinity values \n",
    "# found in the file;\n",
    "# contain a method, salt_mean, which returns the mean of the salinity;\n",
    "# contain a method, temp_max, which returns the maximum value of the temperature values.\n",
    "# Notice that there are many data files in this directory. It would be a lot of work to read them all in by hand. \n",
    "# Instead, write a loop which loops through the file names, reads in the necessary data, calls dataclass to store the \n",
    "# data in a class instance, and adds it to a list of all of the class instances. At the end of your solution, you should \n",
    "# have a list of all of the class instances, one for each data file.\n",
    "# Hint: Check out the package glob for reading in file names with a wild card.\n",
    "\n",
    "\n",
    "class dataclass(object):\n",
    "    \n",
    "    def __init__(self, filename):\n",
    "        switch = 0\n",
    "        self.salt = []\n",
    "        self.temp = []\n",
    "        self.f = filename\n",
    "        f = open(filename)\n",
    "        \n",
    "        for line in f.readlines():\n",
    "            if switch == 1:\n",
    "                self.salt.append(line.split()[5])\n",
    "                self.temp.append(line.split()[2])\n",
    "            if line.split()[0] == '*END*' : switch = 1\n",
    "                \n",
    "        self.salt = np.asarray(self.salt, dtype = 'float64')\n",
    "        self.temp = np.asarray(self.temp, dtype = 'float64')\n",
    "        \n",
    "    def salt_mean(self):\n",
    "        saltmean = np.mean(salt)\n",
    "        return ('salinity =', saltmean)\n",
    "    \n",
    "    def temp_max(self):\n",
    "        tempmax = np.max(temp)\n",
    "        return ('temperature =', tempmax)\n",
    "    \n",
    "import glob\n",
    "filegroup = glob.glob('../python4geosciences/data/MCH/*.cnv2')\n",
    "wind = []\n",
    "for filename in filegroup:\n",
    "    wind.append(dataclass(filename))\n",
    "    \n",
    "print(wind[1].f)\n",
    "print(wind[1].salt)\n",
    "print(wind[1].temp)\n",
    "       "
   ]
  },
  {
   "cell_type": "code",
   "execution_count": 98,
   "metadata": {
    "collapsed": false
   },
   "outputs": [
    {
     "data": {
      "text/plain": [
       "array([ 0.66666667,  1.        ,  1.        ,  1.        ,  0.66666667])"
      ]
     },
     "execution_count": 98,
     "metadata": {},
     "output_type": "execute_result"
    }
   ],
   "source": [
    "# 18. (Grad) Running mean\n",
    "# Write a function that computes averages using a sliding window over a vector; that is, it should take in a vector and for every \n",
    "# element in the vector, compute the average of that point with the N points on either side of the element. N should also be \n",
    "# an input parameter, and the function should return the original vector if N=0. The returned vector should be the same size \n",
    "# as the input vector.\n",
    "# Do not use the pandas package or the function convolve; instead, use a loop. Use the following API for your function:\n",
    "\n",
    "def sliding_mean(vec, N):\n",
    "    '''Return the running average of a vector, with averaging window of size N.\n",
    "    Inputs:\n",
    "        vec: Input vector\n",
    "        N (int): Averaging window size, or number of elements to include in mean on either side of each element.\n",
    "\n",
    "    Outputs:\n",
    "        out: Vector of running-averaged values; same size as vec'''\n",
    "    \n",
    "    v = np.zeros((len(vec),))\n",
    "    if N == 0:\n",
    "        return vec\n",
    "    else:\n",
    "        for z in range(len(vec)):\n",
    "            v[z] = np.sum(vec[z:(z+N+1)]) + np.sum(vec[(z-N):z])\n",
    "    return v/(2*N+1)\n",
    "            \n",
    "a = np.array([1,2,3,4,5])\n",
    "b = np.array([1,1,1,1,1]) \n",
    "\n",
    "sliding_mean(a,0)\n",
    "sliding_mean(a,1)\n",
    "\n",
    "sliding_mean(b,0)\n",
    "sliding_mean(b,1)"
   ]
  },
  {
   "cell_type": "code",
   "execution_count": null,
   "metadata": {
    "collapsed": true
   },
   "outputs": [],
   "source": []
  }
 ],
 "metadata": {
  "kernelspec": {
   "display_name": "Python 3",
   "language": "python",
   "name": "python3"
  },
  "language_info": {
   "codemirror_mode": {
    "name": "ipython",
    "version": 3
   },
   "file_extension": ".py",
   "mimetype": "text/x-python",
   "name": "python",
   "nbconvert_exporter": "python",
   "pygments_lexer": "ipython3",
   "version": "3.5.1"
  }
 },
 "nbformat": 4,
 "nbformat_minor": 0
}
